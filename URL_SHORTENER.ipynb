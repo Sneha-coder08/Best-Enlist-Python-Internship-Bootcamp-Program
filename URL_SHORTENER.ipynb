{
  "nbformat": 4,
  "nbformat_minor": 0,
  "metadata": {
    "colab": {
      "name": "URL_SHORTENER.ipynb",
      "provenance": [],
      "collapsed_sections": [],
      "authorship_tag": "ABX9TyP4EP7cD2OxN0exI5tcOuGt",
      "include_colab_link": true
    },
    "kernelspec": {
      "name": "python3",
      "display_name": "Python 3"
    },
    "language_info": {
      "name": "python"
    }
  },
  "cells": [
    {
      "cell_type": "markdown",
      "metadata": {
        "id": "view-in-github",
        "colab_type": "text"
      },
      "source": [
        "<a href=\"https://colab.research.google.com/github/Sneha-coder08/Best-Enlist-Python-Internship-Bootcamp-Program/blob/main/URL_SHORTENER.ipynb\" target=\"_parent\"><img src=\"https://colab.research.google.com/assets/colab-badge.svg\" alt=\"Open In Colab\"/></a>"
      ]
    },
    {
      "cell_type": "code",
      "metadata": {
        "colab": {
          "base_uri": "https://localhost:8080/"
        },
        "id": "Vj58CUBYe_7F",
        "outputId": "b79e903c-bffc-4ac7-e705-1590db0b7c95"
      },
      "source": [
        "pip install pyshorteners"
      ],
      "execution_count": 1,
      "outputs": [
        {
          "output_type": "stream",
          "text": [
            "Collecting pyshorteners\n",
            "  Downloading pyshorteners-1.0.1.tar.gz (10.0 kB)\n",
            "Requirement already satisfied: requests in /usr/local/lib/python3.7/dist-packages (from pyshorteners) (2.23.0)\n",
            "Requirement already satisfied: chardet<4,>=3.0.2 in /usr/local/lib/python3.7/dist-packages (from requests->pyshorteners) (3.0.4)\n",
            "Requirement already satisfied: certifi>=2017.4.17 in /usr/local/lib/python3.7/dist-packages (from requests->pyshorteners) (2021.5.30)\n",
            "Requirement already satisfied: idna<3,>=2.5 in /usr/local/lib/python3.7/dist-packages (from requests->pyshorteners) (2.10)\n",
            "Requirement already satisfied: urllib3!=1.25.0,!=1.25.1,<1.26,>=1.21.1 in /usr/local/lib/python3.7/dist-packages (from requests->pyshorteners) (1.24.3)\n",
            "Building wheels for collected packages: pyshorteners\n",
            "  Building wheel for pyshorteners (setup.py) ... \u001b[?25l\u001b[?25hdone\n",
            "  Created wheel for pyshorteners: filename=pyshorteners-1.0.1-py3-none-any.whl size=17496 sha256=7f0390f92e8a8c04e908286c3dd0b8a6051be6d3a208ce154022080b402ed56f\n",
            "  Stored in directory: /root/.cache/pip/wheels/1e/c6/50/b06780af353f181fae16d55deb7b47f8aef30567e24a9ce456\n",
            "Successfully built pyshorteners\n",
            "Installing collected packages: pyshorteners\n",
            "Successfully installed pyshorteners-1.0.1\n"
          ],
          "name": "stdout"
        }
      ]
    },
    {
      "cell_type": "code",
      "metadata": {
        "colab": {
          "base_uri": "https://localhost:8080/"
        },
        "id": "F_h2W3DBfKov",
        "outputId": "11bdae0a-e514-4055-da03-ef9ab7ae336c"
      },
      "source": [
        "import pyshorteners\n",
        "link=input(\"Enter the link to be shortened\")\n",
        "shortener = pyshorteners.Shortener()\n",
        "x = shortener.tinyurl.short(link)\n",
        "print(x)"
      ],
      "execution_count": 2,
      "outputs": [
        {
          "output_type": "stream",
          "text": [
            "Enter the link to be shortenedhttps://colab.research.google.com/drive/1bYvEA7P3K23VUcupziUkKVepqg_V0148\n",
            "https://tinyurl.com/yhvgnbr5\n"
          ],
          "name": "stdout"
        }
      ]
    }
  ]
}