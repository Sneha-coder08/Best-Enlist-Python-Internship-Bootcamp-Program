{
  "nbformat": 4,
  "nbformat_minor": 0,
  "metadata": {
    "colab": {
      "name": "DAY 13 TASK.ipynb",
      "provenance": []
    },
    "kernelspec": {
      "name": "python3",
      "display_name": "Python 3"
    },
    "language_info": {
      "name": "python"
    }
  },
  "cells": [
    {
      "cell_type": "markdown",
      "metadata": {
        "id": "WBb-VdQR-NE7"
      },
      "source": [
        "# **Day 13 Python – RegEX**"
      ]
    },
    {
      "cell_type": "markdown",
      "metadata": {
        "id": "abXXabBm-XOQ"
      },
      "source": [
        "## **Exercise:**"
      ]
    },
    {
      "cell_type": "markdown",
      "metadata": {
        "id": "TZfODE5h-dE5"
      },
      "source": [
        "### **Write a Python program for all the cases which can check a string contains only a certain set of characters (in this case a-z, A-Z and 0-9).**"
      ]
    },
    {
      "cell_type": "code",
      "metadata": {
        "colab": {
          "base_uri": "https://localhost:8080/"
        },
        "id": "1dsM9GGs_E8m",
        "outputId": "1a672a8a-994f-4767-a540-b1201eb84407"
      },
      "source": [
        "import re\n",
        "def is_allowed_specific_char(string):\n",
        "    charRe = re.compile(r'[^a-zA-Z0-9.]')\n",
        "    string = charRe.search(string)\n",
        "    return not bool(string)\n",
        "print(is_allowed_specific_char(\"3873900-2@#$&*\")) \n",
        "print(is_allowed_specific_char(\"SnehaSanil\"))\n"
      ],
      "execution_count": 13,
      "outputs": [
        {
          "output_type": "stream",
          "text": [
            "False\n",
            "True\n"
          ],
          "name": "stdout"
        }
      ]
    },
    {
      "cell_type": "markdown",
      "metadata": {
        "id": "eTMPcq26-m1Z"
      },
      "source": [
        "### **Write a Python program that matches a word containing 'ab'.**"
      ]
    },
    {
      "cell_type": "code",
      "metadata": {
        "colab": {
          "base_uri": "https://localhost:8080/"
        },
        "id": "yDhUGcm4_Fqc",
        "outputId": "181c7409-c0b9-48ab-f737-cb1f136ee78b"
      },
      "source": [
        "def text_match(text):\n",
        "        patterns = '\\w*ab.\\w*'\n",
        "        if re.search(patterns,  text):\n",
        "                return 'Found a match!'\n",
        "        else:\n",
        "                return('Not matched!')\n",
        "print(text_match(\"BestEnlist\"))\n",
        "print(text_match(\"abi\"))"
      ],
      "execution_count": 6,
      "outputs": [
        {
          "output_type": "stream",
          "text": [
            "Not matched!\n",
            "Found a match!\n"
          ],
          "name": "stdout"
        }
      ]
    },
    {
      "cell_type": "markdown",
      "metadata": {
        "id": "xZ6MZoCu-r11"
      },
      "source": [
        "### **Write a Python program to check for a number at the end of a word/sentence.**"
      ]
    },
    {
      "cell_type": "code",
      "metadata": {
        "colab": {
          "base_uri": "https://localhost:8080/"
        },
        "id": "tXqpwRpV_Gx-",
        "outputId": "f5991c33-715a-4114-b75f-6dc8bf3783c7"
      },
      "source": [
        "def end_num(string):\n",
        "    text = re.compile(r\".*[0-9]$\")\n",
        "    if text.match(string):\n",
        "        return True\n",
        "    else:\n",
        "        return False\n",
        "print(end_num('Sneha-coder08'))\n",
        "print(end_num('Sanilo1'))\n",
        "print(end_num('kavitha'))"
      ],
      "execution_count": 7,
      "outputs": [
        {
          "output_type": "stream",
          "text": [
            "True\n",
            "True\n",
            "False\n"
          ],
          "name": "stdout"
        }
      ]
    },
    {
      "cell_type": "markdown",
      "metadata": {
        "id": "SLHOUrJI-1si"
      },
      "source": [
        "### **Write a Python program to search the numbers (0-9) of length between 1 to 3 in a given string**"
      ]
    },
    {
      "cell_type": "code",
      "metadata": {
        "colab": {
          "base_uri": "https://localhost:8080/"
        },
        "id": "qc0IoabY_HxP",
        "outputId": "da8c8903-235c-4f96-a362-6855de854eaf"
      },
      "source": [
        "results = re.finditer(r\"([0-9]{1,3})\", \"Exercises number 3, 6, 14, and 870 are important\")\n",
        "print(\"Number of length 1 to 3\")\n",
        "for n in results:\n",
        "    print(n.group(0))"
      ],
      "execution_count": 10,
      "outputs": [
        {
          "output_type": "stream",
          "text": [
            "Number of length 1 to 3\n",
            "3\n",
            "6\n",
            "14\n",
            "870\n"
          ],
          "name": "stdout"
        }
      ]
    },
    {
      "cell_type": "markdown",
      "metadata": {
        "id": "Nwby7Rfn_AKn"
      },
      "source": [
        "### **Write a Python program to match a string that contains only uppercase letters**"
      ]
    },
    {
      "cell_type": "code",
      "metadata": {
        "colab": {
          "base_uri": "https://localhost:8080/"
        },
        "id": "BzDLoFzd_Ib4",
        "outputId": "ca1d51dc-bf90-4620-c5e6-a66564b861bb"
      },
      "source": [
        "def text_match(text):\n",
        "        patterns = '^[a-zA-Z0-9_]*$'\n",
        "        if re.search(patterns,  text):\n",
        "                return 'Found a match!'\n",
        "        else:\n",
        "                return('Not matched!')\n",
        "print(text_match(\"ExAMPLE1\"))\n",
        "print(text_match(\"Sneha is good at coding\"))"
      ],
      "execution_count": 11,
      "outputs": [
        {
          "output_type": "stream",
          "text": [
            "Found a match!\n",
            "Not matched!\n"
          ],
          "name": "stdout"
        }
      ]
    }
  ]
}