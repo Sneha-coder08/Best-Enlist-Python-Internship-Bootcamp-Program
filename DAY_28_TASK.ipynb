{
  "nbformat": 4,
  "nbformat_minor": 5,
  "metadata": {
    "kernelspec": {
      "display_name": "Python 3",
      "language": "python",
      "name": "python3"
    },
    "language_info": {
      "codemirror_mode": {
        "name": "ipython",
        "version": 3
      },
      "file_extension": ".py",
      "mimetype": "text/x-python",
      "name": "python",
      "nbconvert_exporter": "python",
      "pygments_lexer": "ipython3",
      "version": "3.9.5"
    },
    "colab": {
      "name": "DAY 28 TASK.ipynb",
      "provenance": [],
      "include_colab_link": true
    }
  },
  "cells": [
    {
      "cell_type": "markdown",
      "metadata": {
        "id": "view-in-github",
        "colab_type": "text"
      },
      "source": [
        "<a href=\"https://colab.research.google.com/github/Sneha-coder08/Best-Enlist-Python-Internship-Bootcamp-Program/blob/main/DAY_28_TASK.ipynb\" target=\"_parent\"><img src=\"https://colab.research.google.com/assets/colab-badge.svg\" alt=\"Open In Colab\"/></a>"
      ]
    },
    {
      "cell_type": "markdown",
      "metadata": {
        "id": "6e5a08e6"
      },
      "source": [
        "# **DAY 28**"
      ],
      "id": "6e5a08e6"
    },
    {
      "cell_type": "markdown",
      "metadata": {
        "id": "o7X6VdOs9N2F"
      },
      "source": [
        "## **Exercise**"
      ],
      "id": "o7X6VdOs9N2F"
    },
    {
      "cell_type": "markdown",
      "metadata": {
        "id": "uYvwuaBJ9R3l"
      },
      "source": [
        "**Write a Python multithreading program to print current date.**\n",
        "**1. Define a subclass using threading.Thread class.**\n",
        "**2. Instantiate the subclass and trigger the thread.**\n",
        "\n"
      ],
      "id": "uYvwuaBJ9R3l"
    },
    {
      "cell_type": "code",
      "metadata": {
        "id": "71a41b4a"
      },
      "source": [
        "import threading\n",
        "import time"
      ],
      "id": "71a41b4a",
      "execution_count": 5,
      "outputs": []
    },
    {
      "cell_type": "code",
      "metadata": {
        "id": "7da88bba"
      },
      "source": [
        "exitFlag = 0\n",
        "class myThread (threading.Thread):\n",
        "    def __init__(self, threadID, name, counter):\n",
        "        threading.Thread.__init__(self)\n",
        "        self.threadID = threadID\n",
        "        self.name = name\n",
        "        self.counter = counter\n",
        "    def run(self):\n",
        "        print(\"Starting \" + self.name)\n",
        "        print_time(self.name, 5, self.counter)\n",
        "        print(\"Exiting \" + self.name)\n",
        "def print_time(threadName, counter, delay):\n",
        "    while counter:\n",
        "        if exitFlag:\n",
        "            threadName.exit()\n",
        "        time.sleep(delay)\n",
        "        print(\"%s: %s\" % (threadName, time.ctime(time.time())))\n",
        "        counter -= 1"
      ],
      "id": "7da88bba",
      "execution_count": 6,
      "outputs": []
    },
    {
      "cell_type": "code",
      "metadata": {
        "colab": {
          "base_uri": "https://localhost:8080/"
        },
        "id": "9256ee28",
        "outputId": "9aa6962d-2e95-4693-ae80-ea794e3e293b"
      },
      "source": [
        "thread1 = myThread(1, \"Thread-1\", 1)\n",
        "thread2 = myThread(2, \"Thread-2\", 2)\n",
        "thread1.start()\n",
        "thread2.start()\n",
        "print(\"Exiting Main Thread\")"
      ],
      "id": "9256ee28",
      "execution_count": 7,
      "outputs": [
        {
          "output_type": "stream",
          "text": [
            "Starting Thread-1\n",
            "Starting Thread-2Exiting Main Thread\n",
            "\n"
          ],
          "name": "stdout"
        }
      ]
    }
  ]
}