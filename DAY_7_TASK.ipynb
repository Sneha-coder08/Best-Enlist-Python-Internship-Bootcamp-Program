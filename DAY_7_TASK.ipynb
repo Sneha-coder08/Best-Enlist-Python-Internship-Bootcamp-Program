{
  "nbformat": 4,
  "nbformat_minor": 0,
  "metadata": {
    "colab": {
      "name": "DAY 7 TASK.ipynb",
      "provenance": [],
      "collapsed_sections": [],
      "authorship_tag": "ABX9TyN2wlLbiGAKzF8GfYXoHJru",
      "include_colab_link": true
    },
    "kernelspec": {
      "name": "python3",
      "display_name": "Python 3"
    },
    "language_info": {
      "name": "python"
    }
  },
  "cells": [
    {
      "cell_type": "markdown",
      "metadata": {
        "id": "view-in-github",
        "colab_type": "text"
      },
      "source": [
        "<a href=\"https://colab.research.google.com/github/Sneha-coder08/Best-Enlist-Python-Internship-Bootcamp-Program/blob/main/DAY_7_TASK.ipynb\" target=\"_parent\"><img src=\"https://colab.research.google.com/assets/colab-badge.svg\" alt=\"Open In Colab\"/></a>"
      ]
    },
    {
      "cell_type": "markdown",
      "metadata": {
        "id": "6okHA1v1b7oo"
      },
      "source": [
        "**Day 7 – Functions**"
      ]
    },
    {
      "cell_type": "markdown",
      "metadata": {
        "id": "O0wy1xYDb9_K"
      },
      "source": [
        "**Exercise**"
      ]
    },
    {
      "cell_type": "markdown",
      "metadata": {
        "id": "SnIfKXwmcJnu"
      },
      "source": [
        " **1.\tCreate a function getting two integer inputs from user & print the following:**\n",
        "\n",
        "**Addition of two numbers is +value**\n",
        "\n",
        "**Subtraction of two numbers is +value**\n",
        "\n",
        "**Division of two numbers is +value**\n",
        "\n",
        "**Multiplication of two numbers is +value**\n"
      ]
    },
    {
      "cell_type": "code",
      "metadata": {
        "colab": {
          "base_uri": "https://localhost:8080/"
        },
        "id": "3v4PdGCXMEeK",
        "outputId": "06888b69-72fa-4f08-dd70-cf49dfcf17a4"
      },
      "source": [
        "def math(num1,num2):\n",
        "    print(\"Addition of two numbers =\",num1+num2)\n",
        "    print(\"Subtraction of two numbers =\",num1-num2)\n",
        "    print(\"Multiplication of two numbers =\",num1*num2)\n",
        "    print(\"Division of two numbers =\",num1/num2)\n",
        "num1=int(input(\"Enter first number =\"))\n",
        "num2=int(input(\"Enter second number =\"))\n",
        "math(num1,num2)\n",
        "\n",
        "\n",
        "\n"
      ],
      "execution_count": 4,
      "outputs": [
        {
          "output_type": "stream",
          "text": [
            "Enter first number =8\n",
            "Enter second number =4\n",
            "Addition of two numbers = 12\n",
            "Subtraction of two numbers = 4\n",
            "Multiplication of two numbers = 32\n",
            "Division of two numbers = 2.0\n"
          ],
          "name": "stdout"
        }
      ]
    },
    {
      "cell_type": "markdown",
      "metadata": {
        "id": "ayuACawZcJ2f"
      },
      "source": [
        "**2. Create a function covid( ) & it should accept patient name, and body temperature, by default the body temperature should be 98 degree**"
      ]
    },
    {
      "cell_type": "code",
      "metadata": {
        "colab": {
          "base_uri": "https://localhost:8080/"
        },
        "id": "b91z2NfSPGRo",
        "outputId": "bdcbb17c-ae09-4dda-a212-57ae4f9a6a42"
      },
      "source": [
        "def covid(patient_name,body_temperature):\n",
        "  print(\"Name of the patient =\",patient_name)\n",
        "  if body_temperature == '':\n",
        "    print(\"Body temperature = 98\")\n",
        "  else:\n",
        "    print(\"Body temperature =\",body_temperature)\n",
        "patient_name=input(\"Enter Patient Name =\")\n",
        "body_temperature=input(\"Enter Body Temperature =\")\n",
        "covid(patient_name,body_temperature)"
      ],
      "execution_count": 17,
      "outputs": [
        {
          "output_type": "stream",
          "text": [
            "Enter Patient Name =Sneha\n",
            "Enter Body Temperature =\n",
            "Name of the patient = Sneha\n",
            "Body temperature = 98\n"
          ],
          "name": "stdout"
        }
      ]
    },
    {
      "cell_type": "code",
      "metadata": {
        "colab": {
          "base_uri": "https://localhost:8080/"
        },
        "id": "iI8sXtOFe_Pm",
        "outputId": "d13c1dc8-9c5a-4b18-dde5-2976f75a5580"
      },
      "source": [
        "def covid(patient_name,body_temperature):\n",
        "  print(\"Name of the patient =\",patient_name)\n",
        "  if body_temperature == '':\n",
        "    print(\"Body temperature = 98\")\n",
        "  else:\n",
        "    print(\"Body temperature =\",body_temperature)\n",
        "patient_name=input(\"Enter Patient Name =\")\n",
        "body_temperature=input(\"Enter Body Temperature =\")\n",
        "covid(patient_name,body_temperature)"
      ],
      "execution_count": 18,
      "outputs": [
        {
          "output_type": "stream",
          "text": [
            "Enter Patient Name =Sneha\n",
            "Enter Body Temperature =101\n",
            "Name of the patient = Sneha\n",
            "Body temperature = 101\n"
          ],
          "name": "stdout"
        }
      ]
    }
  ]
}