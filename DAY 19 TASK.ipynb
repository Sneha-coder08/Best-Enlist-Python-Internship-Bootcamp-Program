{
 "cells": [
  {
   "cell_type": "markdown",
   "metadata": {},
   "source": [
    "# Day 19\n",
    "# ------------------------------------------------------------------------------------------------------------\n",
    "#  Filter (Where Clause) & Sort"
   ]
  },
  {
   "cell_type": "markdown",
   "metadata": {},
   "source": [
    "### 1.\tCreate an Excel with data of Student database and add all the values which is required for student management database, Read the excel file and add the datas into a DB (using script)"
   ]
  },
  {
   "cell_type": "code",
   "execution_count": 1,
   "metadata": {},
   "outputs": [],
   "source": [
    "import openpyxl\n"
   ]
  },
  {
   "cell_type": "code",
   "execution_count": 4,
   "metadata": {},
   "outputs": [
    {
     "name": "stdout",
     "output_type": "stream",
     "text": [
      "divya\n"
     ]
    }
   ],
   "source": [
    "path = \"students.xlsx\"\n",
    "wb_obj = openpyxl.load_workbook(path)\n",
    "sheet_obj = wb_obj.active\n",
    "cell_obj = sheet_obj.cell(row = 5, column = 3)\n",
    "print(cell_obj.value)"
   ]
  },
  {
   "cell_type": "code",
   "execution_count": 9,
   "metadata": {},
   "outputs": [
    {
     "name": "stdout",
     "output_type": "stream",
     "text": [
      "4\n",
      "104\n",
      "divya\n",
      "9.8\n",
      "9.5\n",
      "8.8\n",
      "9.366666667\n",
      "9876434321\n",
      "sneha@gmail.com\n",
      "saravanan\n"
     ]
    }
   ],
   "source": [
    "# print one student complete record from excel sheet\n",
    "for i in range(1,11):\n",
    "    cell_obj = sheet_obj.cell(row = 5, column = i)\n",
    "    print(cell_obj.value)"
   ]
  },
  {
   "cell_type": "code",
   "execution_count": 10,
   "metadata": {},
   "outputs": [
    {
     "name": "stdout",
     "output_type": "stream",
     "text": [
      "<mysql.connector.connection_cext.CMySQLConnection object at 0x000001ECE4D6E580>\n"
     ]
    }
   ],
   "source": [
    "import mysql.connector\n",
    "\n",
    "mydb = mysql.connector.connect(\n",
    "  host=\"localhost\",\n",
    " user=\"root\",\n",
    "  password=\"1234\",\n",
    ")\n",
    "\n",
    "mycursor = mydb.cursor()\n",
    "print(mydb)"
   ]
  },
  {
   "cell_type": "code",
   "execution_count": 12,
   "metadata": {},
   "outputs": [],
   "source": [
    "dbse = mydb.cursor()\n",
    "\n",
    "dbse.execute(\"CREATE DATABASE Students_Management_System\")"
   ]
  },
  {
   "cell_type": "code",
   "execution_count": 13,
   "metadata": {},
   "outputs": [
    {
     "name": "stdout",
     "output_type": "stream",
     "text": [
      "('doctor',)\n",
      "('doctors1',)\n",
      "('grocerystore',)\n",
      "('information_schema',)\n",
      "('mydatabase',)\n",
      "('mysql',)\n",
      "('performance_schema',)\n",
      "('sakila',)\n",
      "('students_management_system',)\n",
      "('sys',)\n",
      "('world',)\n"
     ]
    }
   ],
   "source": [
    "dbse = mydb.cursor()\n",
    "\n",
    "dbse.execute(\"SHOW DATABASES\")\n",
    "\n",
    "for entry in dbse:\n",
    "  print(entry)"
   ]
  },
  {
   "cell_type": "code",
   "execution_count": 71,
   "metadata": {},
   "outputs": [],
   "source": [
    "mydb = mysql.connector.connect(\n",
    "  host=\"localhost\",\n",
    " user=\"root\",\n",
    "  password=\"1234\",\n",
    "  database=\"students_management_system\"\n",
    ")\n",
    "dbse = mydb.cursor()\n",
    "\n",
    "dbse.execute(\"CREATE TABLE student3 (roll_no INT(10),Reg_no INT(10),NAME VARCHAR(255), semester1 INT(25),semester2 INT(25),semester3 INT(25), CGPA INT(35) ,PHONE_NUMBER INT,email_id VARCHAR(255))\")\n"
   ]
  },
  {
   "cell_type": "code",
   "execution_count": 72,
   "metadata": {},
   "outputs": [
    {
     "name": "stdout",
     "output_type": "stream",
     "text": [
      "('student1',)\n",
      "('student2',)\n",
      "('student3',)\n",
      "('students',)\n"
     ]
    }
   ],
   "source": [
    "dbse = mydb.cursor()\n",
    "\n",
    "dbse.execute(\"SHOW TABLES\")\n",
    "\n",
    "for value in dbse:\n",
    "  print(value)"
   ]
  },
  {
   "cell_type": "code",
   "execution_count": 73,
   "metadata": {},
   "outputs": [],
   "source": [
    "cur = mydb.cursor()\n",
    "cur.execute('SELECT * FROM student3')\n",
    "for row in cur:\n",
    "    print(row)"
   ]
  },
  {
   "cell_type": "code",
   "execution_count": 74,
   "metadata": {},
   "outputs": [],
   "source": [
    "import pandas as pd\n",
    "\n",
    "df = pd.read_excel('students.xlsx')"
   ]
  },
  {
   "cell_type": "code",
   "execution_count": 75,
   "metadata": {},
   "outputs": [],
   "source": [
    "import xlrd\n",
    "import MySQLdb"
   ]
  },
  {
   "cell_type": "code",
   "execution_count": 76,
   "metadata": {},
   "outputs": [
    {
     "data": {
      "text/plain": [
       "<xlrd.book.Book at 0x1ece7ca2430>"
      ]
     },
     "execution_count": 76,
     "metadata": {},
     "output_type": "execute_result"
    }
   ],
   "source": [
    "xl_sheet = xlrd.open_workbook(\"students.xlsx\")\n",
    "xl_sheet"
   ]
  },
  {
   "cell_type": "code",
   "execution_count": 77,
   "metadata": {},
   "outputs": [
    {
     "data": {
      "text/plain": [
       "['students']"
      ]
     },
     "execution_count": 77,
     "metadata": {},
     "output_type": "execute_result"
    }
   ],
   "source": [
    "sheet_name =xl_sheet.sheet_names()\n",
    "sheet_name"
   ]
  },
  {
   "cell_type": "code",
   "execution_count": 78,
   "metadata": {},
   "outputs": [],
   "source": []
  },
  {
   "cell_type": "code",
   "execution_count": 92,
   "metadata": {},
   "outputs": [],
   "source": [
    "mydb = mysql.connector.connect(\n",
    "  host=\"localhost\",\n",
    " user=\"root\",\n",
    "  password=\"1234\",\n",
    "  database=\"students_management_system\"\n",
    ")\n",
    "\n",
    "cur = mydb.cursor()\n",
    "for s in range(0,1):\n",
    "    sheet=xl_sheet.sheet_by_index(s)\n",
    "    sql= \"INSERT INTO student3(roll_no,Reg_no,NAME,semester1,semester2 ,semester3 , CGPA ,email_id) VALUES(%s,%s,%s,%s,%s,%s,%s,%s)\"\n",
    "    for r in range(1,sheet.nrows):\n",
    "        roll_no =sheet.cell(r,0).value\n",
    "        Reg_no =sheet.cell(r,1).value\n",
    "        NAME =sheet.cell(r,2).value\n",
    "        semester1 =sheet.cell(r,3).value\n",
    "        semester2 =sheet.cell(r,4).value\n",
    "        semester3 =sheet.cell(r,5).value\n",
    "        CGPA =sheet.cell(r,6).value\n",
    "        email_id=sheet.cell(r,7).value\n",
    "        values =(roll_no ,Reg_no,NAME ,semester1,semester2 ,semester3 , CGPA ,email_id)\n",
    "        \n",
    "        cur.execute(sql,values)\n",
    "mydb.commit()\n",
    "\n",
    "        \n",
    "        "
   ]
  },
  {
   "cell_type": "code",
   "execution_count": 93,
   "metadata": {},
   "outputs": [
    {
     "name": "stdout",
     "output_type": "stream",
     "text": [
      "(1, 101, 'Anu', 9, 7, 7, 8, None, 'qwer@gmail.com')\n",
      "(1, 101, 'Anu', 9, 7, 7, 8, None, 'qwer@gmail.com')\n",
      "(1, 101, 'Anu', 9, 7, 7, 8, None, 'qwer@gmail.com')\n",
      "(1, 101, 'Anu', 9, 7, 7, 8, None, 'qwer@gmail.com')\n",
      "(1, 101, 'Anu', 9, 7, 7, 8, None, 'qwer@gmail.com')\n",
      "(1, 101, 'Anu', 9, 7, 7, 8, None, 'qwer@gmail.com')\n",
      "(2, 102, 'bargavi', 9, 9, 9, 9, None, 'bargavi@gmail.com')\n",
      "(3, 103, 'chitra', 7, 9, 9, 8, None, 'shitra@gmail.com')\n",
      "(4, 104, 'divya', 10, 10, 9, 9, None, 'divya@gmail.com')\n",
      "(5, 105, 'elikya', 9, 6, 10, 8, None, 'elikya@gmail.com')\n",
      "(6, 106, 'fathima', 7, 9, 9, 8, None, 'fathimababu@gmail.com')\n",
      "(7, 107, 'geeta', 8, 8, 9, 8, None, 'geetasaea@gmail.com')\n",
      "(8, 108, 'harshita', 9, 8, 9, 8, None, 'harshittta@gmail.com')\n",
      "(9, 109, 'iswarya', 8, 8, 9, 8, None, 'iswarya@gmail.com')\n",
      "(10, 110, 'jeevika', 9, 9, 8, 8, None, 'jeevikamanvi@gmail.com')\n",
      "(11, 111, 'koushilya', 8, 9, 8, 8, None, 'kuoshi@gmail.com')\n",
      "(12, 112, 'lavanya', 3, 8, 10, 7, None, 'lavanya@gmail.com')\n",
      "(13, 113, 'malavika', 6, 8, 9, 8, None, 'malavika@gmail.com')\n",
      "(14, 114, 'naveena', 8, 7, 7, 7, None, 'naveena@gmail.com')\n",
      "(15, 115, 'priya', 5, 8, 7, 7, None, 'priya@gmail.com')\n",
      "(1, 101, 'Anu', 9, 7, 7, 8, None, 'qwer@gmail.com')\n",
      "(2, 102, 'bargavi', 9, 9, 9, 9, None, 'bargavi@gmail.com')\n",
      "(3, 103, 'chitra', 7, 9, 9, 8, None, 'shitra@gmail.com')\n",
      "(4, 104, 'divya', 10, 10, 9, 9, None, 'divya@gmail.com')\n",
      "(5, 105, 'elikya', 9, 6, 10, 8, None, 'elikya@gmail.com')\n",
      "(6, 106, 'fathima', 7, 9, 9, 8, None, 'fathimababu@gmail.com')\n",
      "(7, 107, 'geeta', 8, 8, 9, 8, None, 'geetasaea@gmail.com')\n",
      "(8, 108, 'harshita', 9, 8, 9, 8, None, 'harshittta@gmail.com')\n",
      "(9, 109, 'iswarya', 8, 8, 9, 8, None, 'iswarya@gmail.com')\n",
      "(10, 110, 'jeevika', 9, 9, 8, 8, None, 'jeevikamanvi@gmail.com')\n",
      "(11, 111, 'koushilya', 8, 9, 8, 8, None, 'kuoshi@gmail.com')\n",
      "(12, 112, 'lavanya', 3, 8, 10, 7, None, 'lavanya@gmail.com')\n",
      "(13, 113, 'malavika', 6, 8, 9, 8, None, 'malavika@gmail.com')\n",
      "(14, 114, 'naveena', 8, 7, 7, 7, None, 'naveena@gmail.com')\n",
      "(15, 115, 'priya', 5, 8, 7, 7, None, 'priya@gmail.com')\n"
     ]
    }
   ],
   "source": [
    "mycursor = mydb.cursor()\n",
    "\n",
    "mycursor.execute(\"SELECT * FROM student3\")\n",
    "\n",
    "myresult = mycursor.fetchall()\n",
    "\n",
    "for x in myresult:\n",
    "    print(x)"
   ]
  },
  {
   "cell_type": "code",
   "execution_count": 94,
   "metadata": {},
   "outputs": [
    {
     "name": "stdout",
     "output_type": "stream",
     "text": [
      "('Anu',)\n",
      "('Anu',)\n",
      "('Anu',)\n",
      "('Anu',)\n",
      "('Anu',)\n",
      "('Anu',)\n",
      "('bargavi',)\n",
      "('chitra',)\n",
      "('divya',)\n",
      "('elikya',)\n",
      "('fathima',)\n",
      "('geeta',)\n",
      "('harshita',)\n",
      "('iswarya',)\n",
      "('jeevika',)\n",
      "('koushilya',)\n",
      "('lavanya',)\n",
      "('malavika',)\n",
      "('naveena',)\n",
      "('priya',)\n",
      "('Anu',)\n",
      "('bargavi',)\n",
      "('chitra',)\n",
      "('divya',)\n",
      "('elikya',)\n",
      "('fathima',)\n",
      "('geeta',)\n",
      "('harshita',)\n",
      "('iswarya',)\n",
      "('jeevika',)\n",
      "('koushilya',)\n",
      "('lavanya',)\n",
      "('malavika',)\n",
      "('naveena',)\n",
      "('priya',)\n"
     ]
    }
   ],
   "source": [
    "mycursor = mydb.cursor()\n",
    "\n",
    "mycursor.execute(\"SELECT NAME FROM student3 WHERE CGPA >6\")\n",
    "\n",
    "myresult = mycursor.fetchall()\n",
    "\n",
    "for x in myresult:\n",
    "    print(x)"
   ]
  },
  {
   "cell_type": "code",
   "execution_count": 103,
   "metadata": {},
   "outputs": [],
   "source": [
    "mydb.commit()\n",
    " # Close the database connection\n",
    "mydb.close()\n"
   ]
  },
  {
   "cell_type": "code",
   "execution_count": null,
   "metadata": {},
   "outputs": [],
   "source": []
  }
 ],
 "metadata": {
  "kernelspec": {
   "display_name": "Python 3",
   "language": "python",
   "name": "python3"
  },
  "language_info": {
   "codemirror_mode": {
    "name": "ipython",
    "version": 3
   },
   "file_extension": ".py",
   "mimetype": "text/x-python",
   "name": "python",
   "nbconvert_exporter": "python",
   "pygments_lexer": "ipython3",
   "version": "3.8.5"
  }
 },
 "nbformat": 4,
 "nbformat_minor": 4
}
