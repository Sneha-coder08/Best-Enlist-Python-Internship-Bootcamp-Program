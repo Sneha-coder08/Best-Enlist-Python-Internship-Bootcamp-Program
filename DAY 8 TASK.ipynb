{
  "nbformat": 4,
  "nbformat_minor": 0,
  "metadata": {
    "colab": {
      "name": "DAY 8 TASK.ipynb",
      "provenance": []
    },
    "kernelspec": {
      "name": "python3",
      "display_name": "Python 3"
    },
    "language_info": {
      "name": "python"
    }
  },
  "cells": [
    {
      "cell_type": "markdown",
      "metadata": {
        "id": "Dq4EiUzzgqxw"
      },
      "source": [
        "\n",
        "\n",
        "**Day 8 – Exercises**\n",
        "\n"
      ]
    },
    {
      "cell_type": "markdown",
      "metadata": {
        "id": "u0ixG42ugrAK"
      },
      "source": [
        "**Write a Python script to merge two Python dictionaries**"
      ]
    },
    {
      "cell_type": "code",
      "metadata": {
        "colab": {
          "base_uri": "https://localhost:8080/"
        },
        "id": "NJ8RpkAdpKaX",
        "outputId": "817a88ea-934c-4319-cd3d-e1087cb3c909"
      },
      "source": [
        "#creating two dictionaries\n",
        "dict1={'Sneha':85,'Arjun':18,'Meenu':57,'Sree':88}\n",
        "dict2={'Sai':76,'Madhav':56,'Akshay':12,'Nandhu':67}\n",
        "\n",
        "#merging two dictionaries using update() method\n",
        "dict1.update(dict2)\n",
        "print(\"Merged Dictionaries =\",dict1)\n",
        "\n",
        "#merging two dictionaries using ** operator\n",
        "dict3={**dict1,**dict2}\n",
        "print(\"Merged Dictionaries =\",dict3)\n"
      ],
      "execution_count": 1,
      "outputs": [
        {
          "output_type": "stream",
          "text": [
            "Merged Dictionaries = {'Sneha': 85, 'Arjun': 18, 'Meenu': 57, 'Sree': 88, 'Sai': 76, 'Madhav': 56, 'Akshay': 12, 'Nandhu': 67}\n",
            "Merged Dictionaries = {'Sneha': 85, 'Arjun': 18, 'Meenu': 57, 'Sree': 88, 'Sai': 76, 'Madhav': 56, 'Akshay': 12, 'Nandhu': 67}\n"
          ],
          "name": "stdout"
        }
      ]
    },
    {
      "cell_type": "markdown",
      "metadata": {
        "id": "2cEQrCYigrDI"
      },
      "source": [
        "**Write a program to sort the value from descending to ascending in list and convert it in to a set.**"
      ]
    },
    {
      "cell_type": "code",
      "metadata": {
        "colab": {
          "base_uri": "https://localhost:8080/"
        },
        "id": "aydeVrYLpLr-",
        "outputId": "1991e23e-5002-4d90-8494-a08804f3f42f"
      },
      "source": [
        "list1=[1,89,66,6,92,60,963,61,72,2,38,5]\n",
        "list1.sort() #sort list in ascending order\n",
        "print(list1)\n",
        "\n",
        "\n",
        "list1.sort(reverse=True)\n",
        "print(list1)\n",
        "\n",
        "\n",
        "set1=set(list1) \n",
        "print(set1) # after conversion of set the duplication is removed\n",
        "\n",
        "type(set1)\n",
        "\n",
        "\n",
        "type(list1)\n"
      ],
      "execution_count": 42,
      "outputs": [
        {
          "output_type": "stream",
          "text": [
            "[1, 2, 5, 6, 38, 60, 61, 66, 72, 89, 92, 963]\n",
            "[963, 92, 89, 72, 66, 61, 60, 38, 6, 5, 2, 1]\n",
            "{1, 66, 963, 2, 5, 38, 6, 72, 60, 89, 92, 61}\n"
          ],
          "name": "stdout"
        },
        {
          "output_type": "execute_result",
          "data": {
            "text/plain": [
              "list"
            ]
          },
          "metadata": {
            "tags": []
          },
          "execution_count": 42
        }
      ]
    },
    {
      "cell_type": "markdown",
      "metadata": {
        "id": "8mvpAZungrGF"
      },
      "source": [
        "**• Write a Python program to list number of items in a dictionary key and sort the list with the help of a function & without the function.**"
      ]
    },
    {
      "cell_type": "code",
      "metadata": {
        "colab": {
          "base_uri": "https://localhost:8080/"
        },
        "id": "Jn_F_PcApMus",
        "outputId": "e2711b81-5042-4bb9-d409-2ce68d66bfb9"
      },
      "source": [
        "dict1={'arjun':[2,3,1,6],'sneha':[2,7,4,3],'nandhu':[4,7,8,8],'lechu':[3,6,5,4]}\n",
        "result={k:sorted(dict1[k]) for k in sorted(dict1)}\n",
        "print(result)"
      ],
      "execution_count": 43,
      "outputs": [
        {
          "output_type": "stream",
          "text": [
            "{'arjun': [1, 2, 3, 6], 'lechu': [3, 4, 5, 6], 'nandhu': [4, 7, 8, 8], 'sneha': [2, 3, 4, 7]}\n"
          ],
          "name": "stdout"
        }
      ]
    },
    {
      "cell_type": "code",
      "metadata": {
        "colab": {
          "base_uri": "https://localhost:8080/"
        },
        "id": "nNdFWD-PqELW",
        "outputId": "54d1008b-68d4-45d2-8cb7-8a7f120c691e"
      },
      "source": [
        "def function1(dic1):\n",
        "    res = dict()\n",
        "    for key in sorted(dic1):\n",
        "        res[key] = sorted(dic1[key])\n",
        "    return res\n",
        "function1(dict1)"
      ],
      "execution_count": 44,
      "outputs": [
        {
          "output_type": "execute_result",
          "data": {
            "text/plain": [
              "{'arjun': [1, 2, 3, 6],\n",
              " 'lechu': [3, 4, 5, 6],\n",
              " 'nandhu': [4, 7, 8, 8],\n",
              " 'sneha': [2, 3, 4, 7]}"
            ]
          },
          "metadata": {
            "tags": []
          },
          "execution_count": 44
        }
      ]
    },
    {
      "cell_type": "code",
      "metadata": {
        "colab": {
          "base_uri": "https://localhost:8080/"
        },
        "id": "KzIimY5QqU_1",
        "outputId": "2e145642-e83b-4799-838f-f05174c56379"
      },
      "source": [
        "def function2(dict1):\n",
        "    res=dict()\n",
        "    min1=dict1[key]\n",
        "    for key in sorted(dict1):\n",
        "        if dict1[key]<min1:\n",
        "            min1=dict1[key]\n",
        "            res[key]=min1\n",
        "    return res\n",
        "function1(dict1)\n"
      ],
      "execution_count": 45,
      "outputs": [
        {
          "output_type": "execute_result",
          "data": {
            "text/plain": [
              "{'arjun': [1, 2, 3, 6],\n",
              " 'lechu': [3, 4, 5, 6],\n",
              " 'nandhu': [4, 7, 8, 8],\n",
              " 'sneha': [2, 3, 4, 7]}"
            ]
          },
          "metadata": {
            "tags": []
          },
          "execution_count": 45
        }
      ]
    },
    {
      "cell_type": "markdown",
      "metadata": {
        "id": "qcJVLYCpgrJD"
      },
      "source": [
        "**• Write a Python program to get a string from a given string (user input) and \n",
        "change the first occurrence of the word to a user specified input.**"
      ]
    },
    {
      "cell_type": "code",
      "metadata": {
        "colab": {
          "base_uri": "https://localhost:8080/",
          "height": 52
        },
        "id": "nnlRe4D2pNlI",
        "outputId": "2997e085-f6d7-47a3-9a39-bd41215c13fb"
      },
      "source": [
        "def fun():\n",
        "    user=input(\"Enter the string :\")\n",
        "    word=\"String is given by user  \"\n",
        "    return user+word[6:]\n",
        "fun()"
      ],
      "execution_count": 33,
      "outputs": [
        {
          "output_type": "stream",
          "text": [
            "Enter the string :Hello\n"
          ],
          "name": "stdout"
        },
        {
          "output_type": "execute_result",
          "data": {
            "application/vnd.google.colaboratory.intrinsic+json": {
              "type": "string"
            },
            "text/plain": [
              "'Hello is given by user  '"
            ]
          },
          "metadata": {
            "tags": []
          },
          "execution_count": 33
        }
      ]
    },
    {
      "cell_type": "code",
      "metadata": {
        "colab": {
          "base_uri": "https://localhost:8080/",
          "height": 52
        },
        "id": "QBU7P2aqpQVc",
        "outputId": "df6e1c81-1f2c-4de4-c861-bb1007fc86a9"
      },
      "source": [
        "def string1():\n",
        "    user=input(\"Enter the string :\")\n",
        "    word=\"String is given by user  \"\n",
        "    return word.replace('String',user)\n",
        "string1()"
      ],
      "execution_count": 34,
      "outputs": [
        {
          "output_type": "stream",
          "text": [
            "Enter the string :Python\n"
          ],
          "name": "stdout"
        },
        {
          "output_type": "execute_result",
          "data": {
            "application/vnd.google.colaboratory.intrinsic+json": {
              "type": "string"
            },
            "text/plain": [
              "'Python is given by user  '"
            ]
          },
          "metadata": {
            "tags": []
          },
          "execution_count": 34
        }
      ]
    },
    {
      "cell_type": "markdown",
      "metadata": {
        "id": "P_jiHenxgrL2"
      },
      "source": [
        "**• Write a Python program to get a string from a given string where all \n",
        "occurrences of its first char have been changed to capital letter.**"
      ]
    },
    {
      "cell_type": "code",
      "metadata": {
        "colab": {
          "base_uri": "https://localhost:8080/",
          "height": 52
        },
        "id": "CIZvfFvqpQBf",
        "outputId": "3924b9d7-2358-4a07-8643-5edf1ecf6a2d"
      },
      "source": [
        "def function2():\n",
        "    user=input(\"Enter the string :\")\n",
        "    return user.capitalize()\n",
        "function2()\n",
        "\n",
        "def change_char(str1):\n",
        "    char = str1[0]\n",
        "    str1 = str1.replace(char, str1[0].upper())\n",
        "    str1 = char + str1[1:]\n",
        "    return str1\n",
        "change_char(\"best-enlist-python-internship-bootcamp-program\")\n"
      ],
      "execution_count": 31,
      "outputs": [
        {
          "output_type": "stream",
          "text": [
            "Enter the string :bestenlist\n"
          ],
          "name": "stdout"
        },
        {
          "output_type": "execute_result",
          "data": {
            "application/vnd.google.colaboratory.intrinsic+json": {
              "type": "string"
            },
            "text/plain": [
              "'best-enlist-python-internship-Bootcamp-program'"
            ]
          },
          "metadata": {
            "tags": []
          },
          "execution_count": 31
        }
      ]
    },
    {
      "cell_type": "markdown",
      "metadata": {
        "id": "pOb4qrWygrOc"
      },
      "source": [
        "**• Write a Python program to find the repeated items of a list**"
      ]
    },
    {
      "cell_type": "code",
      "metadata": {
        "colab": {
          "base_uri": "https://localhost:8080/"
        },
        "id": "GPWXWXbmpSmr",
        "outputId": "5cc54e93-0aae-409c-ec84-483a4a8b22f4"
      },
      "source": [
        "#method1\n",
        "from collections import Counter\n",
        "l1 =[1,6,8,3,7,3,9,2,3,7,3]\n",
        "d = Counter(l1)\n",
        "print(d)\n",
        "new_list = list([item for item in d if d[item]>1])\n",
        "print(new_list)\n",
        "\n",
        "#method2\n",
        "def Repeat(x):\n",
        "    _size = len(x)\n",
        "    repeated = []\n",
        "    for i in range(_size):\n",
        "        k = i + 1\n",
        "        for j in range(k, _size):\n",
        "            if x[i] == x[j] and x[i] not in repeated:\n",
        "                repeated.append(x[i])\n",
        "    return repeated\n",
        "list1 = [1,9,3,6,9,6,9,8,6,9,6,3,5,8,9,3]\n",
        "print (Repeat(list1))"
      ],
      "execution_count": 24,
      "outputs": [
        {
          "output_type": "stream",
          "text": [
            "Counter({3: 4, 7: 2, 1: 1, 6: 1, 8: 1, 9: 1, 2: 1})\n",
            "[3, 7]\n",
            "[9, 3, 6, 8]\n"
          ],
          "name": "stdout"
        }
      ]
    },
    {
      "cell_type": "markdown",
      "metadata": {
        "id": "0oRGcvVHgrYW"
      },
      "source": [
        "**• Write a Python program to check the sum of three elements and divided by a \n",
        "value which is given as an input by the user**\n"
      ]
    },
    {
      "cell_type": "code",
      "metadata": {
        "colab": {
          "base_uri": "https://localhost:8080/"
        },
        "id": "IBXckkw2pTYe",
        "outputId": "2cfb2e4b-2919-4daa-f0cc-d391e8a0b46b"
      },
      "source": [
        "a=int(input(\"Enter number =\"))\n",
        "b=int(input(\"Enter number =\"))\n",
        "c=int(input(\"Enter number =\"))\n",
        "sum=a+b+c\n",
        "print(\"Sum =\",sum)\n",
        "user=int(input(\"Enter the number to divide the sum =\"))\n",
        "if sum% user==0:\n",
        "    print(\"Sum can be divided by the number\")\n",
        "else :\n",
        "    print(\"Sum cannot be divided by the number\")\n"
      ],
      "execution_count": 21,
      "outputs": [
        {
          "output_type": "stream",
          "text": [
            "Enter number =4\n",
            "Enter number =6\n",
            "Enter number =8\n",
            "Sum = 18\n",
            "Enter the number to divide the sum =3\n",
            "Sum can be divided by the number\n"
          ],
          "name": "stdout"
        }
      ]
    },
    {
      "cell_type": "markdown",
      "metadata": {
        "id": "Cl0cauTjgrx3"
      },
      "source": [
        "**• Write a Python program to find the Mean,median,mode among three given \n",
        "numbers**"
      ]
    },
    {
      "cell_type": "code",
      "metadata": {
        "colab": {
          "base_uri": "https://localhost:8080/"
        },
        "id": "U1fTD8P7pUEY",
        "outputId": "3f2dbc6e-b33d-46aa-961c-6411f1125417"
      },
      "source": [
        "from collections import Counter\n",
        "#mean\n",
        "n_num = [1, 2, 3, 4, 5]\n",
        "n = len(n_num)\n",
        "  \n",
        "get_sum = sum(n_num)\n",
        "mean = get_sum / n\n",
        "  \n",
        "print(\"Mean / Average is: \" + str(mean))\n",
        "#median\n",
        "n = len(n_num)\n",
        "n_num.sort()\n",
        "  \n",
        "if n % 2 == 0:\n",
        "    median1 = n_num[n//2]\n",
        "    median2 = n_num[n//2 - 1]\n",
        "    median = (median1 + median2)/2\n",
        "else:\n",
        "    median = n_num[n//2]\n",
        "print(\"Median is: \" + str(median))\n",
        "#mode  \n",
        "data = Counter(n_num)\n",
        "get_mode = dict(data)\n",
        "mode = [k for k, v in get_mode.items() if v == max(list(data.values()))]\n",
        "  \n",
        "if len(mode) == n:\n",
        "    get_mode = \"No mode found\"\n",
        "else:\n",
        "    get_mode = \"Mode is / are: \" + ', '.join(map(str, mode))\n",
        "      \n",
        "print(get_mode)\n"
      ],
      "execution_count": 20,
      "outputs": [
        {
          "output_type": "stream",
          "text": [
            "Mean / Average is: 3.0\n",
            "Median is: 3\n",
            "No mode found\n"
          ],
          "name": "stdout"
        }
      ]
    },
    {
      "cell_type": "markdown",
      "metadata": {
        "id": "0bi7FYpUh6uF"
      },
      "source": [
        "**• Write a Python program to swap cases of a given string**"
      ]
    },
    {
      "cell_type": "code",
      "metadata": {
        "colab": {
          "base_uri": "https://localhost:8080/"
        },
        "id": "7KEf_r3IpIjG",
        "outputId": "301bb133-59b7-4e90-ac00-6a9720ce8529"
      },
      "source": [
        "a=\"Sneha\"\n",
        "b=\"Sanil\"\n",
        "tep=a\n",
        "a=b\n",
        "b=tep\n",
        "print(a,b)\n",
        "\n",
        "x = a\n",
        "y = b\n",
        "x, y = y, x\n",
        "print(x,y)\n"
      ],
      "execution_count": 11,
      "outputs": [
        {
          "output_type": "stream",
          "text": [
            "Sanil Sneha\n",
            "Sneha Sanil\n"
          ],
          "name": "stdout"
        }
      ]
    },
    {
      "cell_type": "markdown",
      "metadata": {
        "id": "VINRLPhSh_mi"
      },
      "source": [
        "**Write a program to convert an integer to binary & octa decimal**"
      ]
    },
    {
      "cell_type": "code",
      "metadata": {
        "colab": {
          "base_uri": "https://localhost:8080/"
        },
        "id": "96UQzaGkpHey",
        "outputId": "7d60fa82-b071-4c10-ed83-971e35e27bed"
      },
      "source": [
        "def decToOctal(n):\n",
        "    octalNum = [0] * 100\n",
        "    i = 0\n",
        "    while (n != 0):\n",
        "        octalNum[i] = n % 8\n",
        "        n = int(n / 8)\n",
        "        i += 1\n",
        "    for j in range(i - 1, -1, -1):\n",
        "        print(octalNum[j], end=\"\")\n",
        "n=56\n",
        "decToOctal(n)\n"
      ],
      "execution_count": 9,
      "outputs": [
        {
          "output_type": "stream",
          "text": [
            "70"
          ],
          "name": "stdout"
        }
      ]
    }
  ]
}