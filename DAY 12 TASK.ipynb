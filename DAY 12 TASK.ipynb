{
  "nbformat": 4,
  "nbformat_minor": 0,
  "metadata": {
    "colab": {
      "name": "Untitled3.ipynb",
      "provenance": [],
      "authorship_tag": "ABX9TyMP15ZvM79Hyupk7V56sJca",
      "include_colab_link": true
    },
    "kernelspec": {
      "name": "python3",
      "display_name": "Python 3"
    },
    "language_info": {
      "name": "python"
    }
  },
  "cells": [
    {
      "cell_type": "markdown",
      "metadata": {
        "id": "view-in-github",
        "colab_type": "text"
      },
      "source": [
        "<a href=\"https://colab.research.google.com/github/Sneha-coder08/Best-Enlist-Python-Internship-Bootcamp-Program/blob/main/DAY%2012%20TASK.ipynb\" target=\"_parent\"><img src=\"https://colab.research.google.com/assets/colab-badge.svg\" alt=\"Open In Colab\"/></a>"
      ]
    },
    {
      "cell_type": "markdown",
      "metadata": {
        "id": "mepDjXxC5_Ix"
      },
      "source": [
        "# **Day 12 – File Operations**\n"
      ]
    },
    {
      "cell_type": "markdown",
      "metadata": {
        "id": "xrWxcIZu5_T_"
      },
      "source": [
        "### **Create a file 30 days 30 hour operations**"
      ]
    },
    {
      "cell_type": "code",
      "metadata": {
        "id": "MsUklxQ57Sp6"
      },
      "source": [
        "f1=open(r\"30_days_30_hour_operations.txt\",\"w+\")"
      ],
      "execution_count": 2,
      "outputs": []
    },
    {
      "cell_type": "markdown",
      "metadata": {
        "id": "n_A8UJbp6N-Y"
      },
      "source": [
        "### **Write data in it I have completed 10 days successfully.**"
      ]
    },
    {
      "cell_type": "code",
      "metadata": {
        "colab": {
          "base_uri": "https://localhost:8080/"
        },
        "id": "isGuL1Xe7uNc",
        "outputId": "c97fd058-f92c-455c-eaaf-47fd1aaa2c6e"
      },
      "source": [
        "f1.write(\"I have completed 10 days successfully\")\n"
      ],
      "execution_count": 8,
      "outputs": [
        {
          "output_type": "execute_result",
          "data": {
            "text/plain": [
              "37"
            ]
          },
          "metadata": {
            "tags": []
          },
          "execution_count": 8
        }
      ]
    },
    {
      "cell_type": "markdown",
      "metadata": {
        "id": "KhdFeXb_6SVX"
      },
      "source": [
        "###**Append the data your name in to it.**"
      ]
    },
    {
      "cell_type": "code",
      "metadata": {
        "colab": {
          "base_uri": "https://localhost:8080/"
        },
        "id": "zGvsY-bR73I6",
        "outputId": "84ee5298-5734-4a42-c3d4-9adfcb3f9e7e"
      },
      "source": [
        "f1 =open(r\"30_days_30_hour_operations.txt\",\"a+\") \n",
        "f1.writelines(\"Sneha K S\")"
      ],
      "execution_count": 9,
      "outputs": [
        {
          "output_type": "stream",
          "text": [
            "\n"
          ],
          "name": "stdout"
        }
      ]
    },
    {
      "cell_type": "markdown",
      "metadata": {
        "id": "O0MP_EQ26Z1L"
      },
      "source": [
        "### **Close the file.**"
      ]
    },
    {
      "cell_type": "code",
      "metadata": {
        "id": "lHTUd9AB8H0c"
      },
      "source": [
        "f1.close()\n"
      ],
      "execution_count": 6,
      "outputs": []
    }
  ]
}