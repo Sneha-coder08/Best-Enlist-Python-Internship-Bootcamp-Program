{
  "nbformat": 4,
  "nbformat_minor": 0,
  "metadata": {
    "colab": {
      "name": "DAY 9 TASK.ipynb",
      "provenance": []
    },
    "kernelspec": {
      "name": "python3",
      "display_name": "Python 3"
    },
    "language_info": {
      "name": "python"
    }
  },
  "cells": [
    {
      "cell_type": "markdown",
      "metadata": {
        "id": "f9NmSqwAkGJT"
      },
      "source": [
        "### **DAY 9**\n"
      ]
    },
    {
      "cell_type": "markdown",
      "metadata": {
        "id": "p-5EvgdBkHkj"
      },
      "source": [
        "## **EXERCISE**"
      ]
    },
    {
      "cell_type": "markdown",
      "metadata": {
        "id": "qmnqma3fkQ8m"
      },
      "source": [
        "**1) Write a program to loop through a list of numbers and add +2 to every value to elements in list**"
      ]
    },
    {
      "cell_type": "code",
      "metadata": {
        "colab": {
          "base_uri": "https://localhost:8080/"
        },
        "id": "zQQdOqtPm8o1",
        "outputId": "89648eaf-1c16-4e86-efaa-93d5ac6f6d16"
      },
      "source": [
        "list1=[1,2,3,4,5]\n",
        "result=[]\n",
        "for i in list1:\n",
        "\tresult.append(i+2)\n",
        "\tprint(result)"
      ],
      "execution_count": 1,
      "outputs": [
        {
          "output_type": "stream",
          "text": [
            "[3]\n",
            "[3, 4]\n",
            "[3, 4, 5]\n",
            "[3, 4, 5, 6]\n",
            "[3, 4, 5, 6, 7]\n"
          ],
          "name": "stdout"
        }
      ]
    },
    {
      "cell_type": "markdown",
      "metadata": {
        "id": "dO0CDEwmkTKS"
      },
      "source": [
        "**2)Write a program to get the below pattern**\n",
        "                **54321**\n",
        "                **4321**\n",
        "                **321**\n",
        "                **21**\n",
        "                **1**\n",
        "\n"
      ]
    },
    {
      "cell_type": "code",
      "metadata": {
        "colab": {
          "base_uri": "https://localhost:8080/"
        },
        "id": "OwNht3mJrygh",
        "outputId": "c04df96a-6c34-4325-9400-c3f362d9d17e"
      },
      "source": [
        "for i in range(5,0,-1):\n",
        "    for j in range(i,0,-1):\n",
        "        print(j,end=' ')\n",
        "    print()"
      ],
      "execution_count": 2,
      "outputs": [
        {
          "output_type": "stream",
          "text": [
            "5 4 3 2 1 \n",
            "4 3 2 1 \n",
            "3 2 1 \n",
            "2 1 \n",
            "1 \n"
          ],
          "name": "stdout"
        }
      ]
    },
    {
      "cell_type": "markdown",
      "metadata": {
        "id": "j5XVulhtkTAV"
      },
      "source": [
        "**3)Python Program to Print the Fibonacci sequence**"
      ]
    },
    {
      "cell_type": "code",
      "metadata": {
        "colab": {
          "base_uri": "https://localhost:8080/"
        },
        "id": "roHAjIOVr6wg",
        "outputId": "47a4c63b-65dc-4451-e38e-eb773507034d"
      },
      "source": [
        "def fibo(n):\n",
        "    n1, n2 = 0, 1\n",
        "    count = 0\n",
        "    if n<0:\n",
        "        print(\"Incorrect Input\")\n",
        "    elif n == 1 or n == 2:\n",
        "        print('1')\n",
        "    else :\n",
        "         while count < n:\n",
        "                print(n1)\n",
        "                nth = n1 + n2\n",
        "                n1 = n2\n",
        "                n2 = nth\n",
        "                count += 1\n",
        "fibo(10)"
      ],
      "execution_count": 4,
      "outputs": [
        {
          "output_type": "stream",
          "text": [
            "0\n",
            "1\n",
            "1\n",
            "2\n",
            "3\n",
            "5\n",
            "8\n",
            "13\n",
            "21\n",
            "34\n"
          ],
          "name": "stdout"
        }
      ]
    },
    {
      "cell_type": "markdown",
      "metadata": {
        "id": "T2HyOLzHkS1l"
      },
      "source": [
        "**4)Explain Armstrong number and write a code with a function**"
      ]
    },
    {
      "cell_type": "markdown",
      "metadata": {
        "id": "Cvln1l2nuFEJ"
      },
      "source": [
        "Armstrong number is a number that is equal to the sum of cubes of its digits. For example 0, 1, 153, 370, 371 and 407 are the Armstrong numbers."
      ]
    },
    {
      "cell_type": "code",
      "metadata": {
        "colab": {
          "base_uri": "https://localhost:8080/"
        },
        "id": "sDpp0_B6sDTi",
        "outputId": "774b41e1-5105-46b4-d0ac-2ff1264222cb"
      },
      "source": [
        "num = int(input(\"Enter a number: \"))\n",
        "sum1 = 0\n",
        "temp1 = num\n",
        "while temp1 > 0:\n",
        "    digit1 = temp1 % 10\n",
        "    sum1 += digit1**3\n",
        "    temp1 //= 10\n",
        "if num == sum1:\n",
        "    print(num,\"is an Armstrong number\")\n",
        "else:\n",
        "    print(num,\"is not an Armstrong number\")"
      ],
      "execution_count": 6,
      "outputs": [
        {
          "output_type": "stream",
          "text": [
            "Enter a number: 153\n",
            "153 is an Armstrong number\n"
          ],
          "name": "stdout"
        }
      ]
    },
    {
      "cell_type": "markdown",
      "metadata": {
        "id": "xUpgJf9ekSnH"
      },
      "source": [
        "**5)Write a program to print the multiplication table of 9**"
      ]
    },
    {
      "cell_type": "code",
      "metadata": {
        "colab": {
          "base_uri": "https://localhost:8080/"
        },
        "id": "qkV9gwlnsUGw",
        "outputId": "4b5c5d92-5ea1-4540-e3c1-51392657efe2"
      },
      "source": [
        "for i in range(1,11):\n",
        "    print(\"9 x \",i,' = ',i*9 )"
      ],
      "execution_count": 7,
      "outputs": [
        {
          "output_type": "stream",
          "text": [
            "9 x  1  =  9\n",
            "9 x  2  =  18\n",
            "9 x  3  =  27\n",
            "9 x  4  =  36\n",
            "9 x  5  =  45\n",
            "9 x  6  =  54\n",
            "9 x  7  =  63\n",
            "9 x  8  =  72\n",
            "9 x  9  =  81\n",
            "9 x  10  =  90\n"
          ],
          "name": "stdout"
        }
      ]
    },
    {
      "cell_type": "markdown",
      "metadata": {
        "id": "QB58T6rWkSSl"
      },
      "source": [
        "**6)Check if a program is negative or positive**"
      ]
    },
    {
      "cell_type": "code",
      "metadata": {
        "colab": {
          "base_uri": "https://localhost:8080/"
        },
        "id": "dHu4SrVisYXf",
        "outputId": "8ff1287a-98a4-4924-b05a-b8bd77610e94"
      },
      "source": [
        "lid=[56,-936,27,-6,-632,69,96]\n",
        "for i in lid:\n",
        "    if i >=0:\n",
        "        print(i,\" is positive\")\n",
        "    else :\n",
        "        print(i,' is negative ')"
      ],
      "execution_count": 10,
      "outputs": [
        {
          "output_type": "stream",
          "text": [
            "56  is positive\n",
            "-936  is negative \n",
            "27  is positive\n",
            "-6  is negative \n",
            "-632  is negative \n",
            "69  is positive\n",
            "96  is positive\n"
          ],
          "name": "stdout"
        }
      ]
    },
    {
      "cell_type": "markdown",
      "metadata": {
        "id": "7Pju2wdxkRvL"
      },
      "source": [
        "**7)Write a program to convert the number of days to ages**"
      ]
    },
    {
      "cell_type": "code",
      "metadata": {
        "colab": {
          "base_uri": "https://localhost:8080/"
        },
        "id": "Um3mGldospyN",
        "outputId": "daf6affa-c2bc-4df9-a770-88f9d422ae5d"
      },
      "source": [
        "def find( number_of_days ):\n",
        "    year = int(number_of_days / 365)\n",
        "    print(year,'Years ago !')\n",
        "no_days=675\n",
        "find(no_days)"
      ],
      "execution_count": 11,
      "outputs": [
        {
          "output_type": "stream",
          "text": [
            "1 Years ago !\n"
          ],
          "name": "stdout"
        }
      ]
    },
    {
      "cell_type": "markdown",
      "metadata": {
        "id": "QycVooa4mBjh"
      },
      "source": [
        "**8)Solve Trigonometry problem using math function write a program to solve using math function**"
      ]
    },
    {
      "cell_type": "code",
      "metadata": {
        "colab": {
          "base_uri": "https://localhost:8080/"
        },
        "id": "Ow2q9uVksy_a",
        "outputId": "32c3d865-33da-436d-f2a6-9fe32058ae12"
      },
      "source": [
        "\n",
        "import math\n",
        "def trigo(n,m):\n",
        "    if n=='sin':\n",
        "        return math.sin(m)\n",
        "    elif n=='cos':\n",
        "        return math.cos(m)\n",
        "    elif n=='cosin':\n",
        "        return math.cosine(m)\n",
        "    elif n=='tan':\n",
        "        return math.tan(m)\n",
        "    elif n=='sec':\n",
        "        return math.sec(m)\n",
        "    elif n=='cosec':\n",
        "        return math.cosec(m)\n",
        "trigo('sin',90)"
      ],
      "execution_count": 14,
      "outputs": [
        {
          "output_type": "execute_result",
          "data": {
            "text/plain": [
              "0.8939966636005579"
            ]
          },
          "metadata": {
            "tags": []
          },
          "execution_count": 14
        }
      ]
    },
    {
      "cell_type": "markdown",
      "metadata": {
        "id": "svTOba9ymQUX"
      },
      "source": [
        "**9)Create a calculator only on a code level by using if condition (Basic arithmetic calculation)** **bold text**"
      ]
    },
    {
      "cell_type": "code",
      "metadata": {
        "colab": {
          "base_uri": "https://localhost:8080/"
        },
        "id": "-OKeVGOxtAVv",
        "outputId": "e39c4612-62e6-4805-c2cb-674cd9bdeed0"
      },
      "source": [
        "def calculate():\n",
        "    print('+')\n",
        "    print('-')\n",
        "    print('*')\n",
        "    print('/')\n",
        "    print('%')\n",
        "    print('**')\n",
        "    operation = input(\"Select an operator:\")\n",
        "    print(\"Enter two numbers\")\n",
        "    number_1 = int(input())\n",
        "    number_2 = int(input())\n",
        "\n",
        "    if operation == '+': # To add two numbers\n",
        "        print(number_1 + number_2)\n",
        "    elif operation == '-': # To subtract two numbers\n",
        "        print(number_1 - number_2)\n",
        "    elif operation == '*': # To multiply two numbers\n",
        "        print(number_1 * number_2)\n",
        "    elif operation == '/': # To divide two numbers\n",
        "        print(number_1 / number_2)\n",
        "    elif operation == '%': # To remainder two numbers\n",
        "        print(number_1 % number_2)\n",
        "    elif operation == '**': # To num1 exponent num2\n",
        "        print(number_1 ** number_2)\n",
        "    else:\n",
        "        print('Invalid Input')\n",
        "calculate()"
      ],
      "execution_count": 17,
      "outputs": [
        {
          "output_type": "stream",
          "text": [
            "+\n",
            "-\n",
            "*\n",
            "/\n",
            "%\n",
            "**\n",
            "Select an operator:**\n",
            "Enter two numbers\n",
            "2\n",
            "9\n",
            "512\n"
          ],
          "name": "stdout"
        }
      ]
    }
  ]
}