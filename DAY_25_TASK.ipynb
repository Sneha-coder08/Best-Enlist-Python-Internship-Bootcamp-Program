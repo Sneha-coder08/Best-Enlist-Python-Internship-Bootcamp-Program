{
  "nbformat": 4,
  "nbformat_minor": 5,
  "metadata": {
    "kernelspec": {
      "display_name": "Python 3",
      "language": "python",
      "name": "python3"
    },
    "language_info": {
      "codemirror_mode": {
        "name": "ipython",
        "version": 3
      },
      "file_extension": ".py",
      "mimetype": "text/x-python",
      "name": "python",
      "nbconvert_exporter": "python",
      "pygments_lexer": "ipython3",
      "version": "3.9.5"
    },
    "colab": {
      "name": "DAY 25 TASK.ipynb",
      "provenance": [],
      "include_colab_link": true
    }
  },
  "cells": [
    {
      "cell_type": "markdown",
      "metadata": {
        "id": "view-in-github",
        "colab_type": "text"
      },
      "source": [
        "<a href=\"https://colab.research.google.com/github/Sneha-coder08/Best-Enlist-Python-Internship-Bootcamp-Program/blob/main/DAY_25_TASK.ipynb\" target=\"_parent\"><img src=\"https://colab.research.google.com/assets/colab-badge.svg\" alt=\"Open In Colab\"/></a>"
      ]
    },
    {
      "cell_type": "markdown",
      "metadata": {
        "id": "bb1044f9"
      },
      "source": [
        "# **DAY 25**"
      ],
      "id": "bb1044f9"
    },
    {
      "cell_type": "markdown",
      "metadata": {
        "id": "hwRCX1N_2Rp9"
      },
      "source": [
        "## **Write a Python program to convert a string to datetime**"
      ],
      "id": "hwRCX1N_2Rp9"
    },
    {
      "cell_type": "code",
      "metadata": {
        "id": "c65b4aaa"
      },
      "source": [
        "import datetime"
      ],
      "id": "c65b4aaa",
      "execution_count": 1,
      "outputs": []
    },
    {
      "cell_type": "code",
      "metadata": {
        "colab": {
          "base_uri": "https://localhost:8080/"
        },
        "id": "ac43898a",
        "outputId": "549fef19-f385-484b-9755-2c0b625680bd"
      },
      "source": [
        "def convert(date_time):\n",
        "    format = '%b %d %Y %I:%M%p' # The format\n",
        "    datetime_str = datetime.datetime.strptime(date_time, format)\n",
        "    return datetime_str\n",
        "date_time = 'Jul 19 2021 11:03PM'\n",
        "print(convert(date_time))"
      ],
      "id": "ac43898a",
      "execution_count": 3,
      "outputs": [
        {
          "output_type": "stream",
          "text": [
            "2021-07-19 23:03:00\n"
          ],
          "name": "stdout"
        }
      ]
    },
    {
      "cell_type": "markdown",
      "metadata": {
        "id": "cf089e35"
      },
      "source": [
        "## **Write a Python program to subtract five days (last working day) from current date**"
      ],
      "id": "cf089e35"
    },
    {
      "cell_type": "code",
      "metadata": {
        "colab": {
          "base_uri": "https://localhost:8080/"
        },
        "id": "6845a14a",
        "outputId": "2edcbe7e-ca31-459a-d4d4-da1eea6a0d08"
      },
      "source": [
        "from datetime import date, timedelta\n",
        "delta = date.today() - timedelta(5)\n",
        "print('Current Date :',date.today())\n",
        "print('5 days before Current Date  is :',delta)"
      ],
      "id": "6845a14a",
      "execution_count": 4,
      "outputs": [
        {
          "output_type": "stream",
          "text": [
            "Current Date : 2021-07-19\n",
            "5 days before Current Date  is : 2021-07-14\n"
          ],
          "name": "stdout"
        }
      ]
    },
    {
      "cell_type": "markdown",
      "metadata": {
        "id": "4d14f399"
      },
      "source": [
        "##  **Write a Python program to convert the date to datetime using a function** "
      ],
      "id": "4d14f399"
    },
    {
      "cell_type": "code",
      "metadata": {
        "colab": {
          "base_uri": "https://localhost:8080/"
        },
        "id": "7af247a1",
        "outputId": "55f8231b-5836-43a7-df84-ec8aaebc461e"
      },
      "source": [
        "from datetime import datetime\n",
        "dt = date.today()\n",
        "print(datetime.combine(dt, datetime.min.time()))"
      ],
      "id": "7af247a1",
      "execution_count": 5,
      "outputs": [
        {
          "output_type": "stream",
          "text": [
            "2021-07-19 00:00:00\n"
          ],
          "name": "stdout"
        }
      ]
    },
    {
      "cell_type": "markdown",
      "metadata": {
        "id": "cce7fdd0"
      },
      "source": [
        "## **Write a Python program to print next 7 days (week) starting from today**"
      ],
      "id": "cce7fdd0"
    },
    {
      "cell_type": "code",
      "metadata": {
        "colab": {
          "base_uri": "https://localhost:8080/"
        },
        "id": "591fb17e",
        "outputId": "180e2e09-41a6-492d-d2a6-c80d9baadb08"
      },
      "source": [
        "import datetime\n",
        "base = datetime.datetime.today()\n",
        "for x in range(0, 7):\n",
        "    print(base + datetime.timedelta(days=x))"
      ],
      "id": "591fb17e",
      "execution_count": 6,
      "outputs": [
        {
          "output_type": "stream",
          "text": [
            "2021-07-19 17:34:37.641138\n",
            "2021-07-20 17:34:37.641138\n",
            "2021-07-21 17:34:37.641138\n",
            "2021-07-22 17:34:37.641138\n",
            "2021-07-23 17:34:37.641138\n",
            "2021-07-24 17:34:37.641138\n",
            "2021-07-25 17:34:37.641138\n"
          ],
          "name": "stdout"
        }
      ]
    }
  ]
}