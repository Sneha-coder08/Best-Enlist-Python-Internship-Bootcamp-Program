{
  "nbformat": 4,
  "nbformat_minor": 0,
  "metadata": {
    "colab": {
      "name": "DAY 16 TASK.ipynb",
      "provenance": [],
      "collapsed_sections": []
    },
    "kernelspec": {
      "name": "python3",
      "display_name": "Python 3"
    },
    "language_info": {
      "name": "python"
    }
  },
  "cells": [
    {
      "cell_type": "markdown",
      "metadata": {
        "id": "aKQeLKHK2rHk"
      },
      "source": [
        "# **Day 16 - Lambda Function**"
      ]
    },
    {
      "cell_type": "markdown",
      "metadata": {
        "id": "PorYNog820uS"
      },
      "source": [
        "### **Create a lambda function that multiplies argument x with argument y**"
      ]
    },
    {
      "cell_type": "code",
      "metadata": {
        "colab": {
          "base_uri": "https://localhost:8080/"
        },
        "id": "rsqx84-y26MZ",
        "outputId": "18b92559-4276-4f35-a240-a8ac38f78a97"
      },
      "source": [
        "r = lambda x, y : x * y\n",
        "print(r(5, 4))"
      ],
      "execution_count": 3,
      "outputs": [
        {
          "output_type": "stream",
          "text": [
            "20\n"
          ],
          "name": "stdout"
        }
      ]
    },
    {
      "cell_type": "markdown",
      "metadata": {
        "id": "XFjvOdBL3AeM"
      },
      "source": [
        "### **Write a Python program to create Fibonacci series to n using Lambda**"
      ]
    },
    {
      "cell_type": "code",
      "metadata": {
        "colab": {
          "base_uri": "https://localhost:8080/"
        },
        "id": "CboUZj3D3HHj",
        "outputId": "b1aa4c8c-8e4e-4a87-8284-e004f95c11bd"
      },
      "source": [
        "from functools import reduce\n",
        "  \n",
        "fib = lambda n: reduce(lambda x, _: x+[x[-1]+x[-2]],\n",
        "                                 range(n-2), [0, 1])\n",
        "  \n",
        "print(fib(10))"
      ],
      "execution_count": 2,
      "outputs": [
        {
          "output_type": "stream",
          "text": [
            "[0, 1, 1, 2, 3, 5, 8, 13, 21, 34]\n"
          ],
          "name": "stdout"
        }
      ]
    },
    {
      "cell_type": "markdown",
      "metadata": {
        "id": "Wwp7Wz5W3Ptq"
      },
      "source": [
        "### **Write a Python program that multiply each number of given list with a given number**"
      ]
    },
    {
      "cell_type": "code",
      "metadata": {
        "colab": {
          "base_uri": "https://localhost:8080/"
        },
        "id": "lSs2fi9V3OhZ",
        "outputId": "4bfec576-a0cd-4109-f551-cb910093a1c2"
      },
      "source": [
        "nums = [1,2,3,4,5]\n",
        "n = 10\n",
        "print(\"Original list: \", nums)\n",
        "print(\"Given number: \", n)\n",
        "filtered_numbers=list(map(lambda number:number*n,nums))\n",
        "print(\"Result:\")\n",
        "print(' '.join(map(str,filtered_numbers)))"
      ],
      "execution_count": 4,
      "outputs": [
        {
          "output_type": "stream",
          "text": [
            "Original list:  [1, 2, 3, 4, 5]\n",
            "Given number:  10\n",
            "Result:\n",
            "10 20 30 40 50\n"
          ],
          "name": "stdout"
        }
      ]
    },
    {
      "cell_type": "markdown",
      "metadata": {
        "id": "_1_2vRuE3fJL"
      },
      "source": [
        "### **Write a Python program to find numbers divisible by 9 from a list of numbers**"
      ]
    },
    {
      "cell_type": "code",
      "metadata": {
        "colab": {
          "base_uri": "https://localhost:8080/"
        },
        "id": "6A9A8t9k3j5L",
        "outputId": "280faad8-68a9-4179-be61-46a193864b9a"
      },
      "source": [
        "list1=[24,4,54,6,7,8,90,21,12,144,15,27,36,81]\n",
        "print(list1)\n",
        "list2=list(map(lambda j:j%9==0,list1))\n",
        "print(\"Result\")\n",
        "print(' '.join(map(str,list2)))\n",
        "list2=list(filter(lambda j:j%9==0,list1))\n",
        "print(\"Result\")\n",
        "print(' '.join(map(str,list2)))\n"
      ],
      "execution_count": 5,
      "outputs": [
        {
          "output_type": "stream",
          "text": [
            "[24, 4, 54, 6, 7, 8, 90, 21, 12, 144, 15, 27, 36, 81]\n",
            "Result\n",
            "False False True False False False True False False True False True True True\n",
            "Result\n",
            "54 90 144 27 36 81\n"
          ],
          "name": "stdout"
        }
      ]
    },
    {
      "cell_type": "markdown",
      "metadata": {
        "id": "dpAbKf9O3uRS"
      },
      "source": [
        "### **Write a Python program to count the even numbers in a given list of integers**"
      ]
    },
    {
      "cell_type": "code",
      "metadata": {
        "colab": {
          "base_uri": "https://localhost:8080/"
        },
        "id": "cj3x362h308i",
        "outputId": "31959d39-488b-4bb1-dcdb-f2d81111c2f7"
      },
      "source": [
        "list1=[21,40,59,62,77,83,90,21,12,14,15,27,36,81]\n",
        "print(list1)\n",
        "list2=list(filter(lambda j:j%2==0,list1))\n",
        "print(\"Result :\")\n",
        "print(len(list2))"
      ],
      "execution_count": 6,
      "outputs": [
        {
          "output_type": "stream",
          "text": [
            "[21, 40, 59, 62, 77, 83, 90, 21, 12, 14, 15, 27, 36, 81]\n",
            "Result :\n",
            "6\n"
          ],
          "name": "stdout"
        }
      ]
    }
  ]
}