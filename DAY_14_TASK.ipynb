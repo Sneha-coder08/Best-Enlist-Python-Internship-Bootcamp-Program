{
  "nbformat": 4,
  "nbformat_minor": 0,
  "metadata": {
    "colab": {
      "name": "DAY 14 TASK.ipynb",
      "provenance": []
    },
    "kernelspec": {
      "name": "python3",
      "display_name": "Python 3"
    },
    "language_info": {
      "name": "python"
    }
  },
  "cells": [
    {
      "cell_type": "markdown",
      "metadata": {
        "id": "Cm3hWSozegk_"
      },
      "source": [
        "# **Day 14 – Try & Catch**"
      ]
    },
    {
      "cell_type": "markdown",
      "metadata": {
        "id": "xDXqFKN1er0-"
      },
      "source": [
        "## **Exercise:**"
      ]
    },
    {
      "cell_type": "markdown",
      "metadata": {
        "id": "3SMkDmxle-aU"
      },
      "source": [
        "### **List down all the error types and check all the errors using a python program for all errors**"
      ]
    },
    {
      "cell_type": "markdown",
      "metadata": {
        "id": "NElQKvbjYR-B"
      },
      "source": [
        "**Type error**"
      ]
    },
    {
      "cell_type": "code",
      "metadata": {
        "colab": {
          "base_uri": "https://localhost:8080/",
          "height": 178
        },
        "id": "SRnSFZ5TYUlb",
        "outputId": "3b9e0711-964d-49f5-869a-6335c1714afd"
      },
      "source": [
        "a='123'\n",
        "a+=123  # int is added with string\n"
      ],
      "execution_count": 16,
      "outputs": [
        {
          "output_type": "error",
          "ename": "TypeError",
          "evalue": "ignored",
          "traceback": [
            "\u001b[0;31m---------------------------------------------------------------------------\u001b[0m",
            "\u001b[0;31mTypeError\u001b[0m                                 Traceback (most recent call last)",
            "\u001b[0;32m<ipython-input-16-d896626684a4>\u001b[0m in \u001b[0;36m<module>\u001b[0;34m()\u001b[0m\n\u001b[1;32m      1\u001b[0m \u001b[0ma\u001b[0m\u001b[0;34m=\u001b[0m\u001b[0;34m'123'\u001b[0m\u001b[0;34m\u001b[0m\u001b[0;34m\u001b[0m\u001b[0m\n\u001b[0;32m----> 2\u001b[0;31m \u001b[0ma\u001b[0m\u001b[0;34m+=\u001b[0m\u001b[0;36m123\u001b[0m  \u001b[0;31m# int is added with string\u001b[0m\u001b[0;34m\u001b[0m\u001b[0;34m\u001b[0m\u001b[0m\n\u001b[0m",
            "\u001b[0;31mTypeError\u001b[0m: can only concatenate str (not \"int\") to str"
          ]
        }
      ]
    },
    {
      "cell_type": "markdown",
      "metadata": {
        "id": "__MWS-ttTe4s"
      },
      "source": [
        "**Syntax errror**"
      ]
    },
    {
      "cell_type": "code",
      "metadata": {
        "colab": {
          "base_uri": "https://localhost:8080/",
          "height": 128
        },
        "id": "3NXi3R7aOVMR",
        "outputId": "9d37bf4e-a4bc-4cba-d92d-763014ef131a"
      },
      "source": [
        "for i range(1,10):  #for i in range(1,10):   in keyword missing\n",
        "    print(i)\n"
      ],
      "execution_count": 9,
      "outputs": [
        {
          "output_type": "error",
          "ename": "SyntaxError",
          "evalue": "ignored",
          "traceback": [
            "\u001b[0;36m  File \u001b[0;32m\"<ipython-input-9-0cdd41271677>\"\u001b[0;36m, line \u001b[0;32m1\u001b[0m\n\u001b[0;31m    for i range(1,10):  #for i in range(1,10):   in keyword missing\u001b[0m\n\u001b[0m              ^\u001b[0m\n\u001b[0;31mSyntaxError\u001b[0m\u001b[0;31m:\u001b[0m invalid syntax\n"
          ]
        }
      ]
    },
    {
      "cell_type": "markdown",
      "metadata": {
        "id": "5bKEn9G0TydG"
      },
      "source": [
        "**Index error**"
      ]
    },
    {
      "cell_type": "code",
      "metadata": {
        "colab": {
          "base_uri": "https://localhost:8080/",
          "height": 296
        },
        "id": "wd9dxyApT2PU",
        "outputId": "20c37124-5ddc-4faa-8a73-6b2a43ebeba7"
      },
      "source": [
        "l=[1,2,3,4,5,6,7]\n",
        "for i in range(len(l)):\n",
        "    print(l[i+1])"
      ],
      "execution_count": 11,
      "outputs": [
        {
          "output_type": "stream",
          "text": [
            "2\n",
            "3\n",
            "4\n",
            "5\n",
            "6\n",
            "7\n"
          ],
          "name": "stdout"
        },
        {
          "output_type": "error",
          "ename": "IndexError",
          "evalue": "ignored",
          "traceback": [
            "\u001b[0;31m---------------------------------------------------------------------------\u001b[0m",
            "\u001b[0;31mIndexError\u001b[0m                                Traceback (most recent call last)",
            "\u001b[0;32m<ipython-input-11-0cc35c8e45c6>\u001b[0m in \u001b[0;36m<module>\u001b[0;34m()\u001b[0m\n\u001b[1;32m      1\u001b[0m \u001b[0ml\u001b[0m\u001b[0;34m=\u001b[0m\u001b[0;34m[\u001b[0m\u001b[0;36m1\u001b[0m\u001b[0;34m,\u001b[0m\u001b[0;36m2\u001b[0m\u001b[0;34m,\u001b[0m\u001b[0;36m3\u001b[0m\u001b[0;34m,\u001b[0m\u001b[0;36m4\u001b[0m\u001b[0;34m,\u001b[0m\u001b[0;36m5\u001b[0m\u001b[0;34m,\u001b[0m\u001b[0;36m6\u001b[0m\u001b[0;34m,\u001b[0m\u001b[0;36m7\u001b[0m\u001b[0;34m]\u001b[0m\u001b[0;34m\u001b[0m\u001b[0;34m\u001b[0m\u001b[0m\n\u001b[1;32m      2\u001b[0m \u001b[0;32mfor\u001b[0m \u001b[0mi\u001b[0m \u001b[0;32min\u001b[0m \u001b[0mrange\u001b[0m\u001b[0;34m(\u001b[0m\u001b[0mlen\u001b[0m\u001b[0;34m(\u001b[0m\u001b[0ml\u001b[0m\u001b[0;34m)\u001b[0m\u001b[0;34m)\u001b[0m\u001b[0;34m:\u001b[0m\u001b[0;34m\u001b[0m\u001b[0;34m\u001b[0m\u001b[0m\n\u001b[0;32m----> 3\u001b[0;31m     \u001b[0mprint\u001b[0m\u001b[0;34m(\u001b[0m\u001b[0ml\u001b[0m\u001b[0;34m[\u001b[0m\u001b[0mi\u001b[0m\u001b[0;34m+\u001b[0m\u001b[0;36m1\u001b[0m\u001b[0;34m]\u001b[0m\u001b[0;34m)\u001b[0m\u001b[0;34m\u001b[0m\u001b[0;34m\u001b[0m\u001b[0m\n\u001b[0m",
            "\u001b[0;31mIndexError\u001b[0m: list index out of range"
          ]
        }
      ]
    },
    {
      "cell_type": "markdown",
      "metadata": {
        "id": "tvKg1nJGXY7R"
      },
      "source": [
        "**Module not found error**"
      ]
    },
    {
      "cell_type": "code",
      "metadata": {
        "colab": {
          "base_uri": "https://localhost:8080/",
          "height": 296
        },
        "id": "xsUJI0CpXc2O",
        "outputId": "0266ed6c-b98f-47ba-95e4-da91e09e6f86"
      },
      "source": [
        "import sneha\n"
      ],
      "execution_count": 12,
      "outputs": [
        {
          "output_type": "error",
          "ename": "ModuleNotFoundError",
          "evalue": "ignored",
          "traceback": [
            "\u001b[0;31m---------------------------------------------------------------------------\u001b[0m",
            "\u001b[0;31mModuleNotFoundError\u001b[0m                       Traceback (most recent call last)",
            "\u001b[0;32m<ipython-input-12-074e398fc9af>\u001b[0m in \u001b[0;36m<module>\u001b[0;34m()\u001b[0m\n\u001b[0;32m----> 1\u001b[0;31m \u001b[0;32mimport\u001b[0m \u001b[0msneha\u001b[0m\u001b[0;34m\u001b[0m\u001b[0;34m\u001b[0m\u001b[0m\n\u001b[0m",
            "\u001b[0;31mModuleNotFoundError\u001b[0m: No module named 'sneha'",
            "",
            "\u001b[0;31m---------------------------------------------------------------------------\u001b[0;32m\nNOTE: If your import is failing due to a missing package, you can\nmanually install dependencies using either !pip or !apt.\n\nTo view examples of installing some common dependencies, click the\n\"Open Examples\" button below.\n\u001b[0;31m---------------------------------------------------------------------------\u001b[0m\n"
          ]
        }
      ]
    },
    {
      "cell_type": "markdown",
      "metadata": {
        "id": "UPD8rItpYhzd"
      },
      "source": [
        "**Name error**"
      ]
    },
    {
      "cell_type": "code",
      "metadata": {
        "colab": {
          "base_uri": "https://localhost:8080/",
          "height": 178
        },
        "id": "jzPZ7a29YmDU",
        "outputId": "a4f816c1-46ca-4a68-c5a4-84d93535f91e"
      },
      "source": [
        "list=12\n",
        "print(list1)"
      ],
      "execution_count": 17,
      "outputs": [
        {
          "output_type": "error",
          "ename": "NameError",
          "evalue": "ignored",
          "traceback": [
            "\u001b[0;31m---------------------------------------------------------------------------\u001b[0m",
            "\u001b[0;31mNameError\u001b[0m                                 Traceback (most recent call last)",
            "\u001b[0;32m<ipython-input-17-51ca8c6ba761>\u001b[0m in \u001b[0;36m<module>\u001b[0;34m()\u001b[0m\n\u001b[1;32m      1\u001b[0m \u001b[0mlist\u001b[0m\u001b[0;34m=\u001b[0m\u001b[0;36m12\u001b[0m\u001b[0;34m\u001b[0m\u001b[0;34m\u001b[0m\u001b[0m\n\u001b[0;32m----> 2\u001b[0;31m \u001b[0mprint\u001b[0m\u001b[0;34m(\u001b[0m\u001b[0mlist1\u001b[0m\u001b[0;34m)\u001b[0m\u001b[0;34m\u001b[0m\u001b[0;34m\u001b[0m\u001b[0m\n\u001b[0m",
            "\u001b[0;31mNameError\u001b[0m: name 'list1' is not defined"
          ]
        }
      ]
    },
    {
      "cell_type": "markdown",
      "metadata": {
        "id": "0CUfHxbTXupU"
      },
      "source": [
        "**Import error**"
      ]
    },
    {
      "cell_type": "code",
      "metadata": {
        "colab": {
          "base_uri": "https://localhost:8080/",
          "height": 296
        },
        "id": "RyBZreSPXs6U",
        "outputId": "9d8cbe38-47f9-45b9-a61e-aa9f44fa4a7d"
      },
      "source": [
        "from math import numpy\n"
      ],
      "execution_count": 13,
      "outputs": [
        {
          "output_type": "error",
          "ename": "ImportError",
          "evalue": "ignored",
          "traceback": [
            "\u001b[0;31m---------------------------------------------------------------------------\u001b[0m",
            "\u001b[0;31mImportError\u001b[0m                               Traceback (most recent call last)",
            "\u001b[0;32m<ipython-input-13-7b07bdcff68d>\u001b[0m in \u001b[0;36m<module>\u001b[0;34m()\u001b[0m\n\u001b[0;32m----> 1\u001b[0;31m \u001b[0;32mfrom\u001b[0m \u001b[0mmath\u001b[0m \u001b[0;32mimport\u001b[0m \u001b[0mnumpy\u001b[0m\u001b[0;34m\u001b[0m\u001b[0;34m\u001b[0m\u001b[0m\n\u001b[0m",
            "\u001b[0;31mImportError\u001b[0m: cannot import name 'numpy' from 'math' (unknown location)",
            "",
            "\u001b[0;31m---------------------------------------------------------------------------\u001b[0;32m\nNOTE: If your import is failing due to a missing package, you can\nmanually install dependencies using either !pip or !apt.\n\nTo view examples of installing some common dependencies, click the\n\"Open Examples\" button below.\n\u001b[0;31m---------------------------------------------------------------------------\u001b[0m\n"
          ]
        }
      ]
    },
    {
      "cell_type": "markdown",
      "metadata": {
        "id": "H8U98M3gX3l1"
      },
      "source": [
        "**Value error**"
      ]
    },
    {
      "cell_type": "code",
      "metadata": {
        "colab": {
          "base_uri": "https://localhost:8080/",
          "height": 162
        },
        "id": "GkyKd9d7X-KP",
        "outputId": "b5a6d2cd-2ef4-4da8-a768-36f9ada8469f"
      },
      "source": [
        "int(\"abc\")\n"
      ],
      "execution_count": 14,
      "outputs": [
        {
          "output_type": "error",
          "ename": "ValueError",
          "evalue": "ignored",
          "traceback": [
            "\u001b[0;31m---------------------------------------------------------------------------\u001b[0m",
            "\u001b[0;31mValueError\u001b[0m                                Traceback (most recent call last)",
            "\u001b[0;32m<ipython-input-14-2dda1cc00c48>\u001b[0m in \u001b[0;36m<module>\u001b[0;34m()\u001b[0m\n\u001b[0;32m----> 1\u001b[0;31m \u001b[0mint\u001b[0m\u001b[0;34m(\u001b[0m\u001b[0;34m\"abc\"\u001b[0m\u001b[0;34m)\u001b[0m\u001b[0;34m\u001b[0m\u001b[0;34m\u001b[0m\u001b[0m\n\u001b[0m",
            "\u001b[0;31mValueError\u001b[0m: invalid literal for int() with base 10: 'abc'"
          ]
        }
      ]
    },
    {
      "cell_type": "markdown",
      "metadata": {
        "id": "6BwVT-DKYD1f"
      },
      "source": [
        "**Zero Division Error**"
      ]
    },
    {
      "cell_type": "code",
      "metadata": {
        "colab": {
          "base_uri": "https://localhost:8080/",
          "height": 162
        },
        "id": "VaqhBKYgYGhp",
        "outputId": "7c0c3f8a-32d8-4663-8a82-24486617e0f6"
      },
      "source": [
        "9/0"
      ],
      "execution_count": 15,
      "outputs": [
        {
          "output_type": "error",
          "ename": "ZeroDivisionError",
          "evalue": "ignored",
          "traceback": [
            "\u001b[0;31m---------------------------------------------------------------------------\u001b[0m",
            "\u001b[0;31mZeroDivisionError\u001b[0m                         Traceback (most recent call last)",
            "\u001b[0;32m<ipython-input-15-7a5050487faa>\u001b[0m in \u001b[0;36m<module>\u001b[0;34m()\u001b[0m\n\u001b[0;32m----> 1\u001b[0;31m \u001b[0;36m9\u001b[0m\u001b[0;34m/\u001b[0m\u001b[0;36m0\u001b[0m\u001b[0;34m\u001b[0m\u001b[0;34m\u001b[0m\u001b[0m\n\u001b[0m",
            "\u001b[0;31mZeroDivisionError\u001b[0m: division by zero"
          ]
        }
      ]
    },
    {
      "cell_type": "markdown",
      "metadata": {
        "id": "WrF1oUEQfFHQ"
      },
      "source": [
        "### **Design a simple calculator app with try and except for all use cases**"
      ]
    },
    {
      "cell_type": "code",
      "metadata": {
        "colab": {
          "base_uri": "https://localhost:8080/"
        },
        "id": "LCH136QcOV9O",
        "outputId": "63984b6a-4df4-4b2d-e2a2-181987482dd9"
      },
      "source": [
        "def calculate():\n",
        "    try:\n",
        "        print('+')\n",
        "        print('-')\n",
        "        print('*')\n",
        "        print('/')\n",
        "        print('%')\n",
        "        print('**')\n",
        "        operation = input(\"Select an operator:\")\n",
        "        print(\"Enter two numbers\")\n",
        "        number_1 = int(input())\n",
        "        number_2 = int(input())\n",
        "        if operation == '+': # To add two numbers\n",
        "            print(number_1 + number_2)\n",
        "        elif operation == '-': # To subtract two numbers\n",
        "            print(number_1 - number_2)\n",
        "        elif operation == '*': # To multiply two numbers\n",
        "            print(number_1 * number_2)\n",
        "        elif operation == '/': # To divide two numbers\n",
        "            print(number_1 / number_2)\n",
        "        elif operation == '%': # To remainder two numbers\n",
        "            print(number_1 % number_2)\n",
        "        elif operation == '**': # To num1 exponent num2\n",
        "            print(number_1 ** number_2)\n",
        "        else:\n",
        "            print('Invalid Input')\n",
        "    except Exception as e:\n",
        "        print(e)\n",
        "calculate()\n"
      ],
      "execution_count": 7,
      "outputs": [
        {
          "output_type": "stream",
          "text": [
            "+\n",
            "-\n",
            "*\n",
            "/\n",
            "%\n",
            "**\n",
            "Select an operator:/\n",
            "Enter two numbers\n",
            "15\n",
            "3\n",
            "5.0\n"
          ],
          "name": "stdout"
        }
      ]
    },
    {
      "cell_type": "code",
      "metadata": {
        "colab": {
          "base_uri": "https://localhost:8080/"
        },
        "id": "ZaJstDtPRGRu",
        "outputId": "ffead609-7519-44d1-b47d-48010f1153a2"
      },
      "source": [
        "calculate()"
      ],
      "execution_count": 8,
      "outputs": [
        {
          "output_type": "stream",
          "text": [
            "+\n",
            "-\n",
            "*\n",
            "/\n",
            "%\n",
            "**\n",
            "Select an operator:-\n",
            "Enter two numbers\n",
            "45\n",
            "xx\n",
            "invalid literal for int() with base 10: 'xx'\n"
          ],
          "name": "stdout"
        }
      ]
    },
    {
      "cell_type": "markdown",
      "metadata": {
        "id": "RR_EzagBfa49"
      },
      "source": [
        "### **Print one message if the try block raises a NameError and another for other errors**"
      ]
    },
    {
      "cell_type": "code",
      "metadata": {
        "colab": {
          "base_uri": "https://localhost:8080/"
        },
        "id": "JDaviVkDOWwe",
        "outputId": "9ae21c2b-768b-441b-c33f-f6df0334dc4c"
      },
      "source": [
        "try:\n",
        "    a = 123\n",
        "    if a==123:\n",
        "        print(b)\n",
        "        raise NameError(\"Name error\")\n",
        "    if a >0:\n",
        "        raise ValueError(\"Value error\")\n",
        "except NameError as ne:\n",
        "        print(ne)\n",
        "except ValueError as ve:\n",
        "    pritn(ve)"
      ],
      "execution_count": 3,
      "outputs": [
        {
          "output_type": "stream",
          "text": [
            "name 'b' is not defined\n"
          ],
          "name": "stdout"
        }
      ]
    },
    {
      "cell_type": "markdown",
      "metadata": {
        "id": "YaVghhn4gcig"
      },
      "source": [
        "### **When try-except scenario is not required?**"
      ]
    },
    {
      "cell_type": "markdown",
      "metadata": {
        "id": "1i02GVK1QO-T"
      },
      "source": [
        "Python Exceptions are error scenarios that alter the normal execution flow of the program The process of The code inside the else block is executed if there are no exceptions raised.\n"
      ]
    },
    {
      "cell_type": "markdown",
      "metadata": {
        "id": "cMRrT6J9iVCc"
      },
      "source": [
        "### **Try getting an input inside the try catch block**"
      ]
    },
    {
      "cell_type": "code",
      "metadata": {
        "colab": {
          "base_uri": "https://localhost:8080/"
        },
        "id": "Te-IzfRIOYUG",
        "outputId": "d8802968-e8b3-4c85-fc72-18953515ad88"
      },
      "source": [
        "try:\n",
        "    age=int(input('Enter your age: '))\n",
        "except:\n",
        "    print ('You have entered an invalid value.')\n"
      ],
      "execution_count": 6,
      "outputs": [
        {
          "output_type": "stream",
          "text": [
            "Enter your age: six\n",
            "You have entered an invalid value.\n"
          ],
          "name": "stdout"
        }
      ]
    }
  ]
}