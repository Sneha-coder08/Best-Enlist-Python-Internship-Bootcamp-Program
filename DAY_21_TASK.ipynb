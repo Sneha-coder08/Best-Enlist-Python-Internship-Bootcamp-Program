{
  "nbformat": 4,
  "nbformat_minor": 0,
  "metadata": {
    "kernelspec": {
      "display_name": "Python 3",
      "language": "python",
      "name": "python3"
    },
    "language_info": {
      "codemirror_mode": {
        "name": "ipython",
        "version": 3
      },
      "file_extension": ".py",
      "mimetype": "text/x-python",
      "name": "python",
      "nbconvert_exporter": "python",
      "pygments_lexer": "ipython3",
      "version": "3.8.5"
    },
    "colab": {
      "name": "DAY 21 TASK.ipynb",
      "provenance": []
    }
  },
  "cells": [
    {
      "cell_type": "markdown",
      "metadata": {
        "id": "2321PKNJhy47"
      },
      "source": [
        "# DAY 21\n",
        "# ---------------------------------------------------------------------------------------------------------\n",
        "# Map,Filter,zip,reduce"
      ]
    },
    {
      "cell_type": "markdown",
      "metadata": {
        "id": "WjB_RtGhhy5E"
      },
      "source": [
        "#### 1.\tWrite a program using zip() function and list() function, create a merged list of tuples from the two lists given."
      ]
    },
    {
      "cell_type": "code",
      "metadata": {
        "id": "gXQvGsdWhy5F"
      },
      "source": [
        "# Using map() and lambda\n",
        "def listOfTuples(l1, l2):\n",
        "    return list(map(lambda x, y:(x,y), l1, l2))"
      ],
      "execution_count": 3,
      "outputs": []
    },
    {
      "cell_type": "code",
      "metadata": {
        "colab": {
          "base_uri": "https://localhost:8080/"
        },
        "id": "c1FuW6IGhy5G",
        "outputId": "27578f4b-77f4-4541-8b34-e91d388c6164"
      },
      "source": [
        "list1 = [10, 20, 30]\n",
        "list2 = ['A', 'B', 'C']\n",
        "print(listOfTuples(list1, list2))"
      ],
      "execution_count": 4,
      "outputs": [
        {
          "output_type": "stream",
          "text": [
            "[(10, 'A'), (20, 'B'), (30, 'C')]\n"
          ],
          "name": "stdout"
        }
      ]
    },
    {
      "cell_type": "code",
      "metadata": {
        "id": "I4QroYpIhy5I"
      },
      "source": [
        "def merge(list1, list2):\n",
        "      \n",
        "    merged_list = list(zip(list1, list2)) \n",
        "    return merged_list\n",
        "      "
      ],
      "execution_count": 5,
      "outputs": []
    },
    {
      "cell_type": "code",
      "metadata": {
        "colab": {
          "base_uri": "https://localhost:8080/"
        },
        "id": "pRJuMW3hhy5J",
        "outputId": "d75dddbe-4063-4194-f82c-bdc9081631c4"
      },
      "source": [
        "list1 = [1, 2, 3]\n",
        "list2 = ['a', 'b', 'c']\n",
        "print(merge(list1, list2))"
      ],
      "execution_count": 6,
      "outputs": [
        {
          "output_type": "stream",
          "text": [
            "[(1, 'a'), (2, 'b'), (3, 'c')]\n"
          ],
          "name": "stdout"
        }
      ]
    },
    {
      "cell_type": "markdown",
      "metadata": {
        "id": "s7GmDJA1hy5K"
      },
      "source": [
        "####  2.\tFirst create a range from 1 to 8. Then using zip, merge the given list and the range together to create a new list of tuples."
      ]
    },
    {
      "cell_type": "code",
      "metadata": {
        "id": "T_zv-t2shy5K",
        "outputId": "45d0176a-12e8-46c2-e6e0-83e454805774"
      },
      "source": [
        "list1=[1,2,3,4,5,6,7,8]\n",
        "list2=['a','b','c','d','e','f','g','h']\n",
        "result =tuple(zip(list1,list2))\n",
        "print(result)\n"
      ],
      "execution_count": null,
      "outputs": [
        {
          "output_type": "stream",
          "text": [
            "((1, 'a'), (2, 'b'), (3, 'c'), (4, 'd'), (5, 'e'), (6, 'f'), (7, 'g'), (8, 'h'))\n"
          ],
          "name": "stdout"
        }
      ]
    },
    {
      "cell_type": "markdown",
      "metadata": {
        "id": "RISLQRNkhy5L"
      },
      "source": [
        "#### 3.\tUsing sorted() function, sort the list in ascending order."
      ]
    },
    {
      "cell_type": "code",
      "metadata": {
        "colab": {
          "base_uri": "https://localhost:8080/"
        },
        "id": "kK1lGan9hy5M",
        "outputId": "028f7dc9-0e59-4e80-f97d-207b05dd6164"
      },
      "source": [
        "list1=[85,68,32,71,48,32,19,93]\n",
        "list2=sorted(list1)\n",
        "print(list2)"
      ],
      "execution_count": 8,
      "outputs": [
        {
          "output_type": "stream",
          "text": [
            "[19, 32, 32, 48, 68, 71, 85, 93]\n"
          ],
          "name": "stdout"
        }
      ]
    },
    {
      "cell_type": "markdown",
      "metadata": {
        "id": "2pxide0qhy5N"
      },
      "source": [
        "#### 4.\tWrite a program using filter function, filter the even numbers so that only odd numbers are passed to the new list."
      ]
    },
    {
      "cell_type": "code",
      "metadata": {
        "id": "CWkROTE-hy5N"
      },
      "source": [
        "def filtereven(nums):\n",
        "    if nums%2 !=0:\n",
        "        return True\n",
        "    else :\n",
        "        return False\n",
        "    "
      ],
      "execution_count": 9,
      "outputs": []
    },
    {
      "cell_type": "code",
      "metadata": {
        "colab": {
          "base_uri": "https://localhost:8080/"
        },
        "id": "NrmSQeaAhy5O",
        "outputId": "312015e4-b066-4f4f-b8c8-0610ff5c5b15"
      },
      "source": [
        "numbers =[85,62,47,35,46,91,22,84,30]\n",
        "result=filter(filtereven,numbers)\n",
        "for i in result:\n",
        "    print(i)"
      ],
      "execution_count": 10,
      "outputs": [
        {
          "output_type": "stream",
          "text": [
            "85\n",
            "47\n",
            "35\n",
            "91\n"
          ],
          "name": "stdout"
        }
      ]
    }
  ]
}