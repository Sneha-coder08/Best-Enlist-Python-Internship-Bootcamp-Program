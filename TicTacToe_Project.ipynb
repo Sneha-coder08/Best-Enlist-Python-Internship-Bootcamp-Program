{
  "nbformat": 4,
  "nbformat_minor": 0,
  "metadata": {
    "colab": {
      "name": "TicTacToe_Project.ipynb",
      "provenance": []
    },
    "kernelspec": {
      "name": "python3",
      "display_name": "Python 3"
    },
    "language_info": {
      "name": "python"
    }
  },
  "cells": [
    {
      "cell_type": "markdown",
      "metadata": {
        "id": "hHOiqYHlk5Ep"
      },
      "source": [
        "# **PROJECT**"
      ]
    },
    {
      "cell_type": "markdown",
      "metadata": {
        "id": "zsNsez-rlHBG"
      },
      "source": [
        "# **Tic Tac Toe**"
      ]
    },
    {
      "cell_type": "code",
      "metadata": {
        "colab": {
          "base_uri": "https://localhost:8080/"
        },
        "id": "Cbe6Es7Mlwj6",
        "outputId": "aa745565-1059-4536-c325-c4a3a6494759"
      },
      "source": [
        "board = [\n",
        "  [\"-\", \"-\", \"-\"],\n",
        "  [\"-\", \"-\", \"-\"],\n",
        "  [\"-\", \"-\", \"-\"]\n",
        "]\n",
        "\n",
        "user = True # when true it refers to x, otherwise o\n",
        "turns = 0\n",
        "\n",
        "def print_board(board):\n",
        "  for row in board:\n",
        "    for slot in row:\n",
        "      print(f\"{slot} \", end=\"\")\n",
        "    print()\n",
        "\n",
        "def quit(user_input):\n",
        "  if user_input.lower() == \"q\": \n",
        "    print(\"Thanks for playing\")\n",
        "    return True\n",
        "  else: return False\n",
        "\n",
        "\n",
        "def check_input(user_input):\n",
        "  # check if its a number\n",
        "  if not isnum(user_input): return False\n",
        "  user_input = int(user_input)\n",
        "  # check if its 1 - 9\n",
        "  if not bounds(user_input): return False\n",
        "\n",
        "  return True\n",
        "\n",
        "def isnum(user_input):\n",
        "  if not user_input.isnumeric(): \n",
        "    print(\"This is not a valid number\")\n",
        "    return False\n",
        "  else: return True\n",
        "\n",
        "def bounds(user_input):\n",
        "  if user_input > 9 or user_input < 1: \n",
        "    print(\"This is number is out of bounds\")\n",
        "    return False\n",
        "  else: return True\n",
        "\n",
        "def istaken(coords, board):\n",
        "  row = coords[0]\n",
        "  col = coords[1]\n",
        "  if board[row][col] != \"-\":\n",
        "    print(\"This position is already taken.\")\n",
        "    return True\n",
        "  else: return False\n",
        "\n",
        "def coordinates(user_input):\n",
        "  row = int(user_input / 3)\n",
        "  col = user_input\n",
        "  if col > 2: col = int(col % 3)\n",
        "  return (row,col)\n",
        "\n",
        "def add_to_board(coords, board, active_user):\n",
        "  row = coords[0]\n",
        "  col = coords[1]\n",
        "  board[row][col] = active_user\n",
        "\n",
        "def current_user(user):\n",
        "  if user: return \"x\"\n",
        "  else: return \"o\"\n",
        "\n",
        "def iswin(user, board):\n",
        "  if check_row(user, board): return True\n",
        "  if check_col(user, board): return True\n",
        "  if check_diag(user, board): return True\n",
        "  return False\n",
        "\n",
        "def check_row(user, board):\n",
        "  for row in board:\n",
        "    complete_row = True\n",
        "    for slot in row:\n",
        "      if slot != user:\n",
        "        complete_row = False\n",
        "        break\n",
        "    if complete_row: return True\n",
        "  return False \n",
        "\n",
        "def check_col(user, board):\n",
        "  for col in range(3):\n",
        "    complete_col = True\n",
        "    for row in range(3):\n",
        "      if board[row][col] != user:\n",
        "        complete_col = False\n",
        "        break\n",
        "    if complete_col: return True\n",
        "  return False\n",
        "\n",
        "def check_diag(user, board):\n",
        "  #top left to bottom right\n",
        "  if board[0][0] == user and board[1][1] == user and board[2][2] == user: return True\n",
        "  elif board[0][2] == user and board[1][1] == user and board[2][0] == user: return True\n",
        "  else: return False\n",
        "\n",
        "while turns < 9:\n",
        "  active_user = current_user(user)\n",
        "  print_board(board)\n",
        "  user_input = input(\"Please enter a position 1 through 9 or enter \\\"q\\\" to quit:\")\n",
        "  if quit(user_input): break\n",
        "  if not check_input(user_input):\n",
        "    print(\"Please try again.\")\n",
        "    continue\n",
        "  user_input = int(user_input) - 1\n",
        "  coords = coordinates(user_input)\n",
        "  if istaken(coords, board):\n",
        "    print(\"Please try again.\")\n",
        "    continue\n",
        "  add_to_board(coords, board, active_user)\n",
        "  if iswin(active_user, board): \n",
        "    print(f\"{active_user.upper()} won!\")\n",
        "    break\n",
        "  \n",
        "  turns += 1\n",
        "  if turns == 9: print(\"Tie!\")\n",
        "  user = not user\n"
      ],
      "execution_count": 6,
      "outputs": [
        {
          "output_type": "stream",
          "text": [
            "- - - \n",
            "- - - \n",
            "- - - \n",
            "Please enter a position 1 through 9 or enter \"q\" to quit:1\n",
            "x - - \n",
            "- - - \n",
            "- - - \n",
            "Please enter a position 1 through 9 or enter \"q\" to quit:4\n",
            "x - - \n",
            "o - - \n",
            "- - - \n",
            "Please enter a position 1 through 9 or enter \"q\" to quit:5\n",
            "x - - \n",
            "o x - \n",
            "- - - \n",
            "Please enter a position 1 through 9 or enter \"q\" to quit:7\n",
            "x - - \n",
            "o x - \n",
            "o - - \n",
            "Please enter a position 1 through 9 or enter \"q\" to quit:9\n",
            "X won!\n"
          ],
          "name": "stdout"
        }
      ]
    }
  ]
}