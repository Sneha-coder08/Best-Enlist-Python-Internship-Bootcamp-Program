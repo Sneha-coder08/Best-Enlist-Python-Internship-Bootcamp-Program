{
  "nbformat": 4,
  "nbformat_minor": 5,
  "metadata": {
    "kernelspec": {
      "display_name": "Python 3",
      "language": "python",
      "name": "python3"
    },
    "language_info": {
      "codemirror_mode": {
        "name": "ipython",
        "version": 3
      },
      "file_extension": ".py",
      "mimetype": "text/x-python",
      "name": "python",
      "nbconvert_exporter": "python",
      "pygments_lexer": "ipython3",
      "version": "3.9.5"
    },
    "colab": {
      "name": "DAY 24 TASK.ipynb",
      "provenance": [],
      "include_colab_link": true
    }
  },
  "cells": [
    {
      "cell_type": "markdown",
      "metadata": {
        "id": "view-in-github",
        "colab_type": "text"
      },
      "source": [
        "<a href=\"https://colab.research.google.com/github/Sneha-coder08/Best-Enlist-Python-Internship-Bootcamp-Program/blob/main/DAY_24_TASK.ipynb\" target=\"_parent\"><img src=\"https://colab.research.google.com/assets/colab-badge.svg\" alt=\"Open In Colab\"/></a>"
      ]
    },
    {
      "cell_type": "markdown",
      "metadata": {
        "id": "a56c9805"
      },
      "source": [
        "# **DAY 24**\n",
        "\n",
        "\n",
        "\n",
        "\n"
      ],
      "id": "a56c9805"
    },
    {
      "cell_type": "markdown",
      "metadata": {
        "id": "ge_AL1jLzFdh"
      },
      "source": [
        "## **Exercise**"
      ],
      "id": "ge_AL1jLzFdh"
    },
    {
      "cell_type": "markdown",
      "metadata": {
        "id": "d-DKWdf8vlil"
      },
      "source": [
        "## **Create a JSON of all object types and import the JSON into a SQL Database**"
      ],
      "id": "d-DKWdf8vlil"
    },
    {
      "cell_type": "code",
      "metadata": {
        "id": "996dc994"
      },
      "source": [
        "import json"
      ],
      "id": "996dc994",
      "execution_count": null,
      "outputs": []
    },
    {
      "cell_type": "code",
      "metadata": {
        "id": "a1923042"
      },
      "source": [
        "json_data=[\n",
        "    {'name':\"Arjun\",'age':22,'Permanent_staff':True,'salary':75000.00,'dept_desgn':'Software Developer'},\n",
        "     {'name':\"Sneha\",'age':19,'Permanent_staff':True,'salary':156000.00,'dept_desgn':\"Data Analyst\"},\n",
        "     {'name':\"Manu\",'age':18,'Permanent_staff':True,'salary':38000.00,'dept_desgn':'Web Developer'},\n",
        "     {'name':\"Giri\",'age':21,'Permanent_staff':False,'salary':63000.00,'dept_desgn':'Data Scientist'},\n",
        "     {'name':\"Surya\",'age':23,'Permanent_staff':True,'salary':90000.00,'dept_desgn':'Help Desk Analyst'}    \n",
        "]\n"
      ],
      "id": "a1923042",
      "execution_count": null,
      "outputs": []
    },
    {
      "cell_type": "code",
      "metadata": {
        "id": "b03eab7f"
      },
      "source": [
        "res =json.dumps(json_data)"
      ],
      "id": "b03eab7f",
      "execution_count": null,
      "outputs": []
    },
    {
      "cell_type": "code",
      "metadata": {
        "id": "9cbf8fbf",
        "outputId": "1b080648-d2b6-479e-8e12-77415428aad8"
      },
      "source": [
        "import mysql.connector\n",
        "mydb = mysql.connector.connect(host=\"localhost\",user=\"root\",password=\"12345\")\n",
        "print(mydb)"
      ],
      "id": "9cbf8fbf",
      "execution_count": null,
      "outputs": [
        {
          "output_type": "stream",
          "text": [
            "<mysql.connector.connection_cext.CMySQLConnection object at 0x00000183CF004DC0>\n"
          ],
          "name": "stdout"
        }
      ]
    },
    {
      "cell_type": "code",
      "metadata": {
        "id": "a8cdfe17"
      },
      "source": [
        "dbse = mydb.cursor()\n",
        "dbse.execute(\"CREATE DATABASE JSONRECORDS1\")"
      ],
      "id": "a8cdfe17",
      "execution_count": null,
      "outputs": []
    },
    {
      "cell_type": "code",
      "metadata": {
        "id": "f13fde36",
        "outputId": "3e994ac4-2bac-4679-fb04-c8402974c3eb"
      },
      "source": [
        "dbse = mydb.cursor()\n",
        "dbse.execute(\"SHOW DATABASES\")\n",
        "for entry in dbse:\n",
        "    print(entry)"
      ],
      "id": "f13fde36",
      "execution_count": null,
      "outputs": [
        {
          "output_type": "stream",
          "text": [
            "('doctors',)\n",
            "('employee_details',)\n",
            "('information_schema',)\n",
            "('jsonrecords1',)\n",
            "('mydatabase',)\n",
            "('mysql',)\n",
            "('performance_schema',)\n",
            "('students_management_system',)\n",
            "('sys',)\n",
            "('website',)\n",
            "('websites',)\n"
          ],
          "name": "stdout"
        }
      ]
    },
    {
      "cell_type": "code",
      "metadata": {
        "id": "7870ede9"
      },
      "source": [
        "mydb = mysql.connector.connect(host=\"localhost\",user=\"root\",password=\"12345\",database=\"jsonrecords1\")\n",
        "dbse = mydb.cursor()\n",
        "dbse.execute(\"CREATE TABLE employee (name VARCHAR(255),age INT, permanent_staff VARCHAR(255), salary DOUBLE, dept_and_designation VARCHAR(255))\")"
      ],
      "id": "7870ede9",
      "execution_count": null,
      "outputs": []
    },
    {
      "cell_type": "code",
      "metadata": {
        "id": "d916e395",
        "outputId": "c8551c44-176f-4536-b50b-d7a0f095fdb7"
      },
      "source": [
        "dbse = mydb.cursor()\n",
        "dbse.execute(\"SHOW TABLES\")\n",
        "for value in dbse:\n",
        "    print(value)"
      ],
      "id": "d916e395",
      "execution_count": null,
      "outputs": [
        {
          "output_type": "stream",
          "text": [
            "('employee',)\n"
          ],
          "name": "stdout"
        }
      ]
    },
    {
      "cell_type": "code",
      "metadata": {
        "id": "8dd0ce91",
        "outputId": "86d6c5bf-d0bf-43f2-803e-79d12783613d"
      },
      "source": [
        "dbse = mydb.cursor()\n",
        "dbse.execute(\"SHOW COLUMNS FROM employee\")\n",
        "for value in dbse:\n",
        "    print(value)"
      ],
      "id": "8dd0ce91",
      "execution_count": null,
      "outputs": [
        {
          "output_type": "stream",
          "text": [
            "('name', b'varchar(255)', 'YES', '', None, '')\n",
            "('age', b'int', 'YES', '', None, '')\n",
            "('permanent_staff', b'varchar(255)', 'YES', '', None, '')\n",
            "('salary', b'double', 'YES', '', None, '')\n",
            "('dept_and_designation', b'varchar(255)', 'YES', '', None, '')\n"
          ],
          "name": "stdout"
        }
      ]
    }
  ]
}