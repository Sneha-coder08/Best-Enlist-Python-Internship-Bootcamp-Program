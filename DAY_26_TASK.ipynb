{
  "nbformat": 4,
  "nbformat_minor": 5,
  "metadata": {
    "kernelspec": {
      "display_name": "Python 3",
      "language": "python",
      "name": "python3"
    },
    "language_info": {
      "codemirror_mode": {
        "name": "ipython",
        "version": 3
      },
      "file_extension": ".py",
      "mimetype": "text/x-python",
      "name": "python",
      "nbconvert_exporter": "python",
      "pygments_lexer": "ipython3",
      "version": "3.9.5"
    },
    "colab": {
      "name": "DAY 26 TASK.ipynb",
      "provenance": [],
      "include_colab_link": true
    }
  },
  "cells": [
    {
      "cell_type": "markdown",
      "metadata": {
        "id": "view-in-github",
        "colab_type": "text"
      },
      "source": [
        "<a href=\"https://colab.research.google.com/github/Sneha-coder08/Best-Enlist-Python-Internship-Bootcamp-Program/blob/main/DAY_26_TASK.ipynb\" target=\"_parent\"><img src=\"https://colab.research.google.com/assets/colab-badge.svg\" alt=\"Open In Colab\"/></a>"
      ]
    },
    {
      "cell_type": "markdown",
      "metadata": {
        "id": "96e6d5fa"
      },
      "source": [
        "# **DAY 26**"
      ],
      "id": "96e6d5fa"
    },
    {
      "cell_type": "markdown",
      "metadata": {
        "id": "405vb9fz3wG6"
      },
      "source": [
        "## **Enumerate a python list and try to print the counter with the list value** "
      ],
      "id": "405vb9fz3wG6"
    },
    {
      "cell_type": "code",
      "metadata": {
        "colab": {
          "base_uri": "https://localhost:8080/"
        },
        "id": "3f450c3d",
        "outputId": "29675eeb-8446-4372-b6f7-f3b531202cfe"
      },
      "source": [
        "List1=[\"Sneha\",\"Arjun\",\"Surya\",\"Meera\",\"Roshan\",\"Giri\",\"Shreya\"]\n",
        "print(list(enumerate(List1)))"
      ],
      "id": "3f450c3d",
      "execution_count": 1,
      "outputs": [
        {
          "output_type": "stream",
          "text": [
            "[(0, 'Sneha'), (1, 'Arjun'), (2, 'Surya'), (3, 'Meera'), (4, 'Roshan'), (5, 'Giri'), (6, 'Shreya')]\n"
          ],
          "name": "stdout"
        }
      ]
    },
    {
      "cell_type": "code",
      "metadata": {
        "colab": {
          "base_uri": "https://localhost:8080/"
        },
        "id": "57b54acc",
        "outputId": "6a9f4804-db99-496d-bddc-c1d3951e1233"
      },
      "source": [
        "print(enumerate(List1))"
      ],
      "id": "57b54acc",
      "execution_count": 2,
      "outputs": [
        {
          "output_type": "stream",
          "text": [
            "<enumerate object at 0x7fd9fd91aaa0>\n"
          ],
          "name": "stdout"
        }
      ]
    },
    {
      "cell_type": "markdown",
      "metadata": {
        "id": "4b539cc5"
      },
      "source": [
        "## **Enumerate a python tuple and try to print the counter with the tuple value**"
      ],
      "id": "4b539cc5"
    },
    {
      "cell_type": "code",
      "metadata": {
        "colab": {
          "base_uri": "https://localhost:8080/"
        },
        "id": "8903a1ab",
        "outputId": "db884516-5b42-440a-f071-61502ba8b525"
      },
      "source": [
        "Tuple1=(\"Madhav\",\"Sneha\",\"Rohith\",\"Pranav\",\"Surya\",\"Giri\",\"Meera\")\n",
        "print(tuple(enumerate(Tuple1)))"
      ],
      "id": "8903a1ab",
      "execution_count": 3,
      "outputs": [
        {
          "output_type": "stream",
          "text": [
            "((0, 'Madhav'), (1, 'Sneha'), (2, 'Rohith'), (3, 'Pranav'), (4, 'Surya'), (5, 'Giri'), (6, 'Meera'))\n"
          ],
          "name": "stdout"
        }
      ]
    },
    {
      "cell_type": "code",
      "metadata": {
        "colab": {
          "base_uri": "https://localhost:8080/"
        },
        "id": "212e1570",
        "outputId": "87f9f96f-bb70-4108-c87e-3ffa1510a397"
      },
      "source": [
        "print(enumerate(Tuple1))"
      ],
      "id": "212e1570",
      "execution_count": 4,
      "outputs": [
        {
          "output_type": "stream",
          "text": [
            "<enumerate object at 0x7fd9fbebac30>\n"
          ],
          "name": "stdout"
        }
      ]
    }
  ]
}