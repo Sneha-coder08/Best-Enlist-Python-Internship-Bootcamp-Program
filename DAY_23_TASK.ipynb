{
  "nbformat": 4,
  "nbformat_minor": 5,
  "metadata": {
    "kernelspec": {
      "display_name": "Python 3",
      "language": "python",
      "name": "python3"
    },
    "language_info": {
      "codemirror_mode": {
        "name": "ipython",
        "version": 3
      },
      "file_extension": ".py",
      "mimetype": "text/x-python",
      "name": "python",
      "nbconvert_exporter": "python",
      "pygments_lexer": "ipython3",
      "version": "3.9.5"
    },
    "colab": {
      "name": "DAY 23 TASK.ipynb",
      "provenance": [],
      "include_colab_link": true
    }
  },
  "cells": [
    {
      "cell_type": "markdown",
      "metadata": {
        "id": "view-in-github",
        "colab_type": "text"
      },
      "source": [
        "<a href=\"https://colab.research.google.com/github/Sneha-coder08/Best-Enlist-Python-Internship-Bootcamp-Program/blob/main/DAY_23_TASK.ipynb\" target=\"_parent\"><img src=\"https://colab.research.google.com/assets/colab-badge.svg\" alt=\"Open In Colab\"/></a>"
      ]
    },
    {
      "cell_type": "markdown",
      "metadata": {
        "id": "9c7c3b6e"
      },
      "source": [
        "# **DAY 23**"
      ],
      "id": "9c7c3b6e"
    },
    {
      "cell_type": "markdown",
      "metadata": {
        "id": "q0A3X4PZexUi"
      },
      "source": [
        "## **PDF Merger**"
      ],
      "id": "q0A3X4PZexUi"
    },
    {
      "cell_type": "code",
      "metadata": {
        "id": "e3504a1c"
      },
      "source": [
        "import tkinter as tk\n",
        "from tkinter.filedialog import askopenfilename\n",
        "from PyPDF2 import PdfFileMerger, PdfFileReader\n",
        "from pathlib import Path\n",
        "filelist = []\n",
        "# initiate merger Object\n",
        "merger = PdfFileMerger()\n",
        "def open_file(files):\n",
        "    filepath = askopenfilename(filetypes=[(\"PDF Files\",\"*.pdf\"), (\"All Files\", \"*.*\")])\n",
        "    if not(filepath and Path(filepath).exists()):\n",
        "        return\n",
        "    files.append(filepath)\n",
        "    # list out all filenames\n",
        "    lbl_items[\"text\"] = '\\n'.join(str(f) for f in files)\n",
        "    if len(files) >= 2 and btn_merge['state'] == \"disabled\":\n",
        "        btn_merge[\"state\"] = \"normal\"\n",
        "def merge_pdfs(files):\n",
        "    for f in files:\n",
        "        merger.append(PdfFileReader(open(f, \"rb\")))    \n",
        "    output_filename = ent_output_name.get()\n",
        "    if not output_filename:\n",
        "        output_filename = \"Untitled.pdf\"\n",
        "    elif \".pdf\" not in output_filename:\n",
        "        output_filename += \".pdf\"\n",
        "    merger.write(output_filename)\n",
        "# create desktop GUI\n",
        "window = tk.Tk()\n",
        "window.title(\"PDFMerger Tk\")\n",
        "window.geometry(\"500x500\")\n",
        "# not allowed resizing x y direction\n",
        "window.resizable(0,0)\n",
        "# --- Ask open files ---\n",
        "fr_bg1 = tk.Frame(window, bd=3)\n",
        "lbl_open = tk.Label(fr_bg1, text=\"Please choose PDFs to join: (2 and above)\")\n",
        "lbl_open.grid(row=0, column=0, sticky=\"ew\", padx=5, pady=5)\n",
        "btn_open = tk.Button(fr_bg1, text=\"Open file\",bg='royalblue', fg='white',font=('helvetica', 12, 'bold'),command=lambda: open_file(filelist))\n",
        "btn_open.grid(row=1, column=0, sticky=\"ew\", padx=5)\n",
        "lbl_items = tk.Label(fr_bg1, text=\"\")\n",
        "lbl_items.grid(row=2, column=0, pady=5)\n",
        "fr_bg1.pack()\n",
        "# --- Button to merge PDFs ---\n",
        "fr_bg2 = tk.Frame(window, bd=3)\n",
        "lbl_to_merge = tk.Label(fr_bg2, text=\"Merge selected files (in PDF)\")\n",
        "lbl_to_merge.grid(row=0, column=0, sticky=\"ew\", padx=\"5\", pady=\"5\")\n",
        "ent_output_name = tk.Entry(master=fr_bg2, width=7)\n",
        "ent_output_name.grid(row=1, column=0, sticky=\"ew\")\n",
        "btn_merge = tk.Button(fr_bg2,bg='royalblue',font=('helvetica', 12, 'bold') ,text=\"Merge PDF\",state=\"disabled\",command=lambda: merge_pdfs(filelist))\n",
        "btn_merge.grid(row=2, column=0, sticky=\"ew\", padx=5, pady=5)\n",
        "fr_bg2.pack()\n",
        "btn_exit = tk.Button(window, text=\"Exit\", command=window.destroy, bd=2, bg='royalblue', fg='black',font=('helvetica', 12, 'bold') ,)\n",
        "btn_exit.pack(side=tk.BOTTOM, fill=tk.BOTH, expand=tk.FALSE)\n",
        "if __name__ == \"__main__\":\n",
        "    window.mainloop()"
      ],
      "id": "e3504a1c",
      "execution_count": null,
      "outputs": []
    },
    {
      "cell_type": "markdown",
      "metadata": {
        "id": "1158e70d"
      },
      "source": [
        "## **Image Converter**"
      ],
      "id": "1158e70d"
    },
    {
      "cell_type": "code",
      "metadata": {
        "id": "206a5b4e"
      },
      "source": [
        "import tkinter as tk\n",
        "from tkinter import filedialog\n",
        "from tkinter import messagebox\n",
        "from PIL import Image\n",
        "root= tk.Tk()\n",
        "root.title(\"Image Converter\")\n",
        "canvas1 = tk.Canvas(root, width = 300, height = 250, bg = 'lightsteelblue2', relief = 'raised')\n",
        "canvas1.pack()\n",
        "label1 = tk.Label(root, text='File Conversion Tool', bg = 'lightsteelblue2')\n",
        "label1.config(font=('helvetica', 20))\n",
        "canvas1.create_window(150, 60, window=label1)\n",
        "def getJPG ():\n",
        "    global im1\n",
        "    import_file_path = filedialog.askopenfilename()\n",
        "    im1 = Image.open(import_file_path)    \n",
        "browseButton_JPG = tk.Button(text=\"      Import JPG File     \", command=getJPG, bg='royalblue', fg='white', font=('helvetica', 12, 'bold'))\n",
        "canvas1.create_window(150, 130, window=browseButton_JPG)\n",
        "def convertToPNG ():\n",
        "    global im1    \n",
        "    export_file_path = filedialog.asksaveasfilename(defaultextension='.png')\n",
        "    im1.save(export_file_path)\n",
        "saveAsButton_PNG = tk.Button(text='Convert JPG to PNG', command=convertToPNG, bg='royalblue', fg='white', font=('helvetica', 12, 'bold'))\n",
        "canvas1.create_window(150, 180, window=saveAsButton_PNG)\n",
        "root.mainloop()"
      ],
      "id": "206a5b4e",
      "execution_count": null,
      "outputs": []
    },
    {
      "cell_type": "markdown",
      "metadata": {
        "id": "9521a492"
      },
      "source": [
        "## **Weather**"
      ],
      "id": "9521a492"
    },
    {
      "cell_type": "code",
      "metadata": {
        "id": "88bb5965"
      },
      "source": [
        "from configparser import ConfigParser\n",
        "import requests\n",
        "from tkinter import *\n",
        "from tkinter import messagebox\n",
        "# configuration file\n",
        "config_file = \"config.ini\"\n",
        "config = ConfigParser()\n",
        "config.read(config_file)\n",
        "api_key = config['priya']['api']\n",
        "url = \"api.openweathermap.org/data/2.5/weather?q={}&appid={}\"\n",
        "def getweather(city):\n",
        "    result = requests.get(url.format(city, api_key))\n",
        "    if result:\n",
        "        json = result.json()\n",
        "        city = json['name']\n",
        "        country = json['sys']\n",
        "        temp_kelvin = json['main']['temp']\n",
        "        temp_celsius = temp_kelvin-273.15\n",
        "        weather1 = json['weather'][0]['main']\n",
        "        final = [city, country, temp_kelvin,temp_celsius, weather1]\n",
        "        return final\n",
        "    else:\n",
        "        print(\"NO Content Found\")\n",
        "# search city\n",
        "def search():\n",
        "    city = city_text.get()\n",
        "    weather = getweather(city)\n",
        "    if weather:\n",
        "        location_lbl['text'] = '{} ,{}'.format(weather[0], weather[1])\n",
        "        temperature_label['text'] = str(weather[3])+\" Degree Celsius\"\n",
        "        weather_l['text'] = weather[4]\n",
        "    else:\n",
        "        messagebox.showerror('Error', \"Cannot find {}\".format(city))\n",
        "app = Tk()\n",
        "app.title(\"Weather App\")\n",
        "app.geometry(\"300x300\")\n",
        "# add labels, buttons and text\n",
        "city_text = StringVar()\n",
        "city_entry = Entry(app, textvariable=city_text)\n",
        "city_entry.pack()\n",
        "Search_btn = Button(app, text=\"Search Weather\",bg='royalblue', fg='white',font=('helvetica', 12, 'bold'), command=search)\n",
        "Search_btn.pack()\n",
        "location_lbl = Label(app, text=\"Location\", font={'bold', 20})\n",
        "location_lbl.pack()\n",
        "temperature_label = Label(app, text=\"\")\n",
        "temperature_label.pack()\n",
        "weather_l = Label(app, text=\"\")\n",
        "weather_l.pack()\n",
        "app.mainloop()"
      ],
      "id": "88bb5965",
      "execution_count": null,
      "outputs": []
    }
  ]
}