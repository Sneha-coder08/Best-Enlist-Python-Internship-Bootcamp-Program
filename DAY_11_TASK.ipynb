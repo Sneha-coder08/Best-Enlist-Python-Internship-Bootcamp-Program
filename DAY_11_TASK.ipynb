{
  "nbformat": 4,
  "nbformat_minor": 0,
  "metadata": {
    "colab": {
      "name": "DAY 11 TASK.ipynb",
      "provenance": [],
      "collapsed_sections": []
    },
    "kernelspec": {
      "name": "python3",
      "display_name": "Python 3"
    },
    "language_info": {
      "name": "python"
    }
  },
  "cells": [
    {
      "cell_type": "markdown",
      "metadata": {
        "id": "RocKFckTRYy3"
      },
      "source": [
        "# **Day 11 – Pip & Modules**"
      ]
    },
    {
      "cell_type": "markdown",
      "metadata": {
        "id": "rAYtG_-bRY_v"
      },
      "source": [
        "## **EXERCISES:**\n"
      ]
    },
    {
      "cell_type": "markdown",
      "metadata": {
        "id": "82chUf5bRZL5"
      },
      "source": [
        "### **1.Create a python module with list and import the module in another .py file and change the value in list**"
      ]
    },
    {
      "cell_type": "code",
      "metadata": {
        "colab": {
          "base_uri": "https://localhost:8080/",
          "height": 229
        },
        "id": "N-BGp1FLgIEb",
        "outputId": "2258ae59-2a41-4930-998a-4293bd381bcd"
      },
      "source": [
        "import DAY11_MYMODULE\n",
        "MYMODULE.mymodule()\n",
        "DAY11_MYMODULE.list1[1]='Divi'\n",
        "print(MYMODULE.mymodule())\n",
        "list2=['Garima','Payal','Muskan','Nitish']\n",
        "DAY11_MYMODULE.mymodule(list2)\n"
      ],
      "execution_count": 16,
      "outputs": [
        {
          "output_type": "error",
          "ename": "NameError",
          "evalue": "ignored",
          "traceback": [
            "\u001b[0;31m---------------------------------------------------------------------------\u001b[0m",
            "\u001b[0;31mNameError\u001b[0m                                 Traceback (most recent call last)",
            "\u001b[0;32m<ipython-input-16-8b2bf00f4ec0>\u001b[0m in \u001b[0;36m<module>\u001b[0;34m()\u001b[0m\n\u001b[1;32m      1\u001b[0m \u001b[0;32mimport\u001b[0m \u001b[0mDAY11_MYMODULE\u001b[0m\u001b[0;34m\u001b[0m\u001b[0;34m\u001b[0m\u001b[0m\n\u001b[0;32m----> 2\u001b[0;31m \u001b[0mMYMODULE\u001b[0m\u001b[0;34m.\u001b[0m\u001b[0mmymodule\u001b[0m\u001b[0;34m(\u001b[0m\u001b[0;34m)\u001b[0m\u001b[0;34m\u001b[0m\u001b[0;34m\u001b[0m\u001b[0m\n\u001b[0m\u001b[1;32m      3\u001b[0m \u001b[0mDAY11_MYMODULE\u001b[0m\u001b[0;34m.\u001b[0m\u001b[0mlist1\u001b[0m\u001b[0;34m[\u001b[0m\u001b[0;36m1\u001b[0m\u001b[0;34m]\u001b[0m\u001b[0;34m=\u001b[0m\u001b[0;34m'Divi'\u001b[0m\u001b[0;34m\u001b[0m\u001b[0;34m\u001b[0m\u001b[0m\n\u001b[1;32m      4\u001b[0m \u001b[0mprint\u001b[0m\u001b[0;34m(\u001b[0m\u001b[0mMYMODULE\u001b[0m\u001b[0;34m.\u001b[0m\u001b[0mmymodule\u001b[0m\u001b[0;34m(\u001b[0m\u001b[0;34m)\u001b[0m\u001b[0;34m)\u001b[0m\u001b[0;34m\u001b[0m\u001b[0;34m\u001b[0m\u001b[0m\n\u001b[1;32m      5\u001b[0m \u001b[0mlist2\u001b[0m\u001b[0;34m=\u001b[0m\u001b[0;34m[\u001b[0m\u001b[0;34m'Garima'\u001b[0m\u001b[0;34m,\u001b[0m\u001b[0;34m'Payal'\u001b[0m\u001b[0;34m,\u001b[0m\u001b[0;34m'Muskan'\u001b[0m\u001b[0;34m,\u001b[0m\u001b[0;34m'Nitish'\u001b[0m\u001b[0;34m]\u001b[0m\u001b[0;34m\u001b[0m\u001b[0;34m\u001b[0m\u001b[0m\n",
            "\u001b[0;31mNameError\u001b[0m: name 'MYMODULE' is not defined"
          ]
        }
      ]
    },
    {
      "cell_type": "markdown",
      "metadata": {
        "id": "Dd5DRW1QhEA7"
      },
      "source": [
        "### **2. Install pandas package (try to import the package in a python file)**"
      ]
    },
    {
      "cell_type": "code",
      "metadata": {
        "colab": {
          "base_uri": "https://localhost:8080/"
        },
        "id": "Utb5lrsuhLPT",
        "outputId": "dc10d67c-f0f5-4e90-f242-3ebac6f6b188"
      },
      "source": [
        "pip install pandas\n"
      ],
      "execution_count": 5,
      "outputs": [
        {
          "output_type": "stream",
          "text": [
            "Requirement already satisfied: pandas in /usr/local/lib/python3.7/dist-packages (1.1.5)\n",
            "Requirement already satisfied: pytz>=2017.2 in /usr/local/lib/python3.7/dist-packages (from pandas) (2018.9)\n",
            "Requirement already satisfied: numpy>=1.15.4 in /usr/local/lib/python3.7/dist-packages (from pandas) (1.19.5)\n",
            "Requirement already satisfied: python-dateutil>=2.7.3 in /usr/local/lib/python3.7/dist-packages (from pandas) (2.8.1)\n",
            "Requirement already satisfied: six>=1.5 in /usr/local/lib/python3.7/dist-packages (from python-dateutil>=2.7.3->pandas) (1.15.0)\n"
          ],
          "name": "stdout"
        }
      ]
    },
    {
      "cell_type": "markdown",
      "metadata": {
        "id": "5FFDJodKhP5F"
      },
      "source": [
        "### **3.Import a module that picks random number and write a program**\n",
        "### **to fetch a random number from 1 to 100 on every run**"
      ]
    },
    {
      "cell_type": "code",
      "metadata": {
        "colab": {
          "base_uri": "https://localhost:8080/"
        },
        "id": "k9n7KFu6igXs",
        "outputId": "8b6b22e3-6877-4610-d8c3-935aa2432b7f"
      },
      "source": [
        "import numpy as np\n",
        "np.random.randint(low =1, high=100)"
      ],
      "execution_count": 8,
      "outputs": [
        {
          "output_type": "execute_result",
          "data": {
            "text/plain": [
              "51"
            ]
          },
          "metadata": {
            "tags": []
          },
          "execution_count": 8
        }
      ]
    },
    {
      "cell_type": "code",
      "metadata": {
        "colab": {
          "base_uri": "https://localhost:8080/"
        },
        "id": "SpA9YKwNiytB",
        "outputId": "5cfc1a39-3ecb-4849-c969-24e9bfa39733"
      },
      "source": [
        "np.random.randint(low =1, high=100,size=5)"
      ],
      "execution_count": 9,
      "outputs": [
        {
          "output_type": "execute_result",
          "data": {
            "text/plain": [
              "array([44, 83, 87, 87, 30])"
            ]
          },
          "metadata": {
            "tags": []
          },
          "execution_count": 9
        }
      ]
    },
    {
      "cell_type": "markdown",
      "metadata": {
        "id": "8Reftu0mi2hD"
      },
      "source": [
        "### **4.Import sys package and find the python path**"
      ]
    },
    {
      "cell_type": "code",
      "metadata": {
        "colab": {
          "base_uri": "https://localhost:8080/"
        },
        "id": "F4PF5KYvniX-",
        "outputId": "7b2096ac-9a98-4ceb-809a-dba6d08d9599"
      },
      "source": [
        "import sys\n",
        "sys.maxsize\n"
      ],
      "execution_count": 10,
      "outputs": [
        {
          "output_type": "execute_result",
          "data": {
            "text/plain": [
              "9223372036854775807"
            ]
          },
          "metadata": {
            "tags": []
          },
          "execution_count": 10
        }
      ]
    },
    {
      "cell_type": "code",
      "metadata": {
        "colab": {
          "base_uri": "https://localhost:8080/"
        },
        "id": "6yJxkwe9npFJ",
        "outputId": "56f1e74e-c790-478f-d68a-456ac52a0688"
      },
      "source": [
        "sys.path\n"
      ],
      "execution_count": 11,
      "outputs": [
        {
          "output_type": "execute_result",
          "data": {
            "text/plain": [
              "['',\n",
              " '/content',\n",
              " '/env/python',\n",
              " '/usr/lib/python37.zip',\n",
              " '/usr/lib/python3.7',\n",
              " '/usr/lib/python3.7/lib-dynload',\n",
              " '/usr/local/lib/python3.7/dist-packages',\n",
              " '/usr/lib/python3/dist-packages',\n",
              " '/usr/local/lib/python3.7/dist-packages/IPython/extensions',\n",
              " '/root/.ipython']"
            ]
          },
          "metadata": {
            "tags": []
          },
          "execution_count": 11
        }
      ]
    },
    {
      "cell_type": "code",
      "metadata": {
        "colab": {
          "base_uri": "https://localhost:8080/",
          "height": 35
        },
        "id": "BKlN72wVnuF8",
        "outputId": "96406405-ce56-435d-b57f-113d6e944c6c"
      },
      "source": [
        "sys.version\n"
      ],
      "execution_count": 12,
      "outputs": [
        {
          "output_type": "execute_result",
          "data": {
            "application/vnd.google.colaboratory.intrinsic+json": {
              "type": "string"
            },
            "text/plain": [
              "'3.7.10 (default, May  3 2021, 02:48:31) \\n[GCC 7.5.0]'"
            ]
          },
          "metadata": {
            "tags": []
          },
          "execution_count": 12
        }
      ]
    },
    {
      "cell_type": "code",
      "metadata": {
        "colab": {
          "base_uri": "https://localhost:8080/",
          "height": 35
        },
        "id": "fBd5RsUDnuRh",
        "outputId": "75ecc73f-0df4-43a5-8471-23291e463f7d"
      },
      "source": [
        "sys.argv[1]\n"
      ],
      "execution_count": 13,
      "outputs": [
        {
          "output_type": "execute_result",
          "data": {
            "application/vnd.google.colaboratory.intrinsic+json": {
              "type": "string"
            },
            "text/plain": [
              "'-f'"
            ]
          },
          "metadata": {
            "tags": []
          },
          "execution_count": 13
        }
      ]
    },
    {
      "cell_type": "markdown",
      "metadata": {
        "id": "n-_giv9kn3NM"
      },
      "source": [
        "### **5.Try to install a package and uninstall a package using pip**"
      ]
    },
    {
      "cell_type": "code",
      "metadata": {
        "colab": {
          "base_uri": "https://localhost:8080/"
        },
        "id": "bzPFYkVJn_6Y",
        "outputId": "77ecc0ed-3421-4042-db41-672dbf4238a0"
      },
      "source": [
        "pip uninstall django\n"
      ],
      "execution_count": 15,
      "outputs": [
        {
          "output_type": "stream",
          "text": [
            "\u001b[33mWARNING: Skipping django as it is not installed.\u001b[0m\n"
          ],
          "name": "stdout"
        }
      ]
    }
  ]
}