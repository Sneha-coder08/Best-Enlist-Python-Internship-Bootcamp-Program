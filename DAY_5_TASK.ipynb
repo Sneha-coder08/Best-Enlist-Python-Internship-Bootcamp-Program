{
  "nbformat": 4,
  "nbformat_minor": 0,
  "metadata": {
    "colab": {
      "name": "DAY 5 TASK.ipynb",
      "provenance": [],
      "collapsed_sections": []
    },
    "kernelspec": {
      "name": "python3",
      "display_name": "Python 3"
    },
    "language_info": {
      "name": "python"
    }
  },
  "cells": [
    {
      "cell_type": "markdown",
      "metadata": {
        "id": "bs6MG4zK6I23"
      },
      "source": [
        "\n",
        "\n",
        "**Day 5 – User Inputs, Other Important Datatypes**"
      ]
    },
    {
      "cell_type": "markdown",
      "metadata": {
        "id": "0XKWMocq6SZU"
      },
      "source": [
        "***Exercise***:"
      ]
    },
    {
      "cell_type": "markdown",
      "metadata": {
        "id": "GRLyTVo46TzX"
      },
      "source": [
        "**1)Write a program to create a list of n integer values and do the following**\n",
        "**•\tAdd an item in to the list (using function)**\n",
        "**•\tDelete (using function)**\n",
        "**•\tStore the largest number from the list to a variable**\n",
        "**•\tStore the Smallest number from the list to a variable**\n"
      ]
    },
    {
      "cell_type": "code",
      "metadata": {
        "colab": {
          "base_uri": "https://localhost:8080/"
        },
        "id": "cPfwBU_S7zJ3",
        "outputId": "9d811980-663a-4049-ea5f-2d77b4323e32"
      },
      "source": [
        "#create a list of n integer values\n",
        "no=5\n",
        "l=[]\n",
        "for i in range(no):\n",
        "    x=int(input())\n",
        "    l.append(x)"
      ],
      "execution_count": null,
      "outputs": [
        {
          "output_type": "stream",
          "text": [
            "1\n",
            "2\n",
            "3\n",
            "4\n",
            "5\n"
          ],
          "name": "stdout"
        }
      ]
    },
    {
      "cell_type": "code",
      "metadata": {
        "colab": {
          "base_uri": "https://localhost:8080/"
        },
        "id": "eZPoakOg8o0J",
        "outputId": "3014ff21-97b5-40a2-88de-a39070fd60cc"
      },
      "source": [
        "#Add an item in to the list\n",
        "l.append(6)\n",
        "print(\"List =\",l)"
      ],
      "execution_count": null,
      "outputs": [
        {
          "output_type": "stream",
          "text": [
            "List = [1, 2, 3, 4, 5, 6]\n"
          ],
          "name": "stdout"
        }
      ]
    },
    {
      "cell_type": "code",
      "metadata": {
        "colab": {
          "base_uri": "https://localhost:8080/"
        },
        "id": "TTXf_sPT-nRU",
        "outputId": "19677a64-4129-451f-ab1a-59afa65b45c0"
      },
      "source": [
        "l.insert(0,0)\n",
        "print(\"List =\",l)"
      ],
      "execution_count": null,
      "outputs": [
        {
          "output_type": "stream",
          "text": [
            "List = [0, 1, 2, 3, 4, 5, 6]\n"
          ],
          "name": "stdout"
        }
      ]
    },
    {
      "cell_type": "code",
      "metadata": {
        "colab": {
          "base_uri": "https://localhost:8080/"
        },
        "id": "rvsyz7i2_IuN",
        "outputId": "496f20ed-6fbd-41f1-9135-fb67e85b0474"
      },
      "source": [
        "#Delete an item\n",
        "del l[5]\n",
        "print(\"List =\",l)"
      ],
      "execution_count": null,
      "outputs": [
        {
          "output_type": "stream",
          "text": [
            "List = [0, 1, 2, 3, 4, 6]\n"
          ],
          "name": "stdout"
        }
      ]
    },
    {
      "cell_type": "code",
      "metadata": {
        "colab": {
          "base_uri": "https://localhost:8080/"
        },
        "id": "IV1xmvrE_a02",
        "outputId": "9ec7057a-ff15-41d1-bc76-51d1d2c93541"
      },
      "source": [
        "l.pop()\n",
        "print(\"List =\",l)"
      ],
      "execution_count": null,
      "outputs": [
        {
          "output_type": "stream",
          "text": [
            "List = [0, 1, 2, 3, 4]\n"
          ],
          "name": "stdout"
        }
      ]
    },
    {
      "cell_type": "code",
      "metadata": {
        "colab": {
          "base_uri": "https://localhost:8080/"
        },
        "id": "qPFG6U3Zz223",
        "outputId": "0de8b0e4-5c24-4c8b-9f5e-fc162f24992b"
      },
      "source": [
        "#Store the largest number from the list to a variable\n",
        "\n",
        "# list of numbers\n",
        "list1 = [10, 20, 4, 45, 99]\n",
        "  \n",
        "# sorting the list\n",
        "list1.sort()\n",
        "  \n",
        "# printing the last element\n",
        "print(\"Largest element is:\", list1[-1])"
      ],
      "execution_count": 4,
      "outputs": [
        {
          "output_type": "stream",
          "text": [
            "Largest element is: 99\n"
          ],
          "name": "stdout"
        }
      ]
    },
    {
      "cell_type": "code",
      "metadata": {
        "colab": {
          "base_uri": "https://localhost:8080/"
        },
        "id": "FbBnpnZz20k9",
        "outputId": "861dd839-a7be-4aba-f337-d7a0d886ba35"
      },
      "source": [
        "#Store the smallest number from the list to a variable\n",
        "\n",
        "# list of numbers\n",
        "list1 = [10, 20, 4, 45, 99]\n",
        "  \n",
        "# sorting the list\n",
        "list1.sort()\n",
        "  \n",
        "# printing the last element\n",
        "print(\"Smallest element is:\", list1[0])"
      ],
      "execution_count": 5,
      "outputs": [
        {
          "output_type": "stream",
          "text": [
            "Smallest element is: 4\n"
          ],
          "name": "stdout"
        }
      ]
    },
    {
      "cell_type": "markdown",
      "metadata": {
        "id": "qE-lw1gSBWXz"
      },
      "source": [
        "**2) Create a tuple and print the reverse of the created tuple**"
      ]
    },
    {
      "cell_type": "code",
      "metadata": {
        "colab": {
          "base_uri": "https://localhost:8080/"
        },
        "id": "5lCJ5wT0BbGZ",
        "outputId": "092889ee-f99c-4082-d6e3-31963d4f9809"
      },
      "source": [
        "#Reverse of tuple - Using the technique of slicing\n",
        "tuple=(1,2,3,4,5,6,7,8,9)\n",
        "reverse=tuple[::-1]\n",
        "print(\"Reverse of tuple =\",reverse)\n"
      ],
      "execution_count": null,
      "outputs": [
        {
          "output_type": "stream",
          "text": [
            "Reverse of tuple = (9, 8, 7, 6, 5, 4, 3, 2, 1)\n"
          ],
          "name": "stdout"
        }
      ]
    },
    {
      "cell_type": "markdown",
      "metadata": {
        "id": "mWPOhU4C4BCq"
      },
      "source": [
        "**3) Create a tuple and convert tuple into list**"
      ]
    },
    {
      "cell_type": "code",
      "metadata": {
        "colab": {
          "base_uri": "https://localhost:8080/"
        },
        "id": "NlqxxHl74DKQ",
        "outputId": "7c5fc3c1-5875-4c7b-bf81-7a8d380c96a5"
      },
      "source": [
        "#convert tuple into list\n",
        "tuple_1 = ('a', 'e', 'i', 'o', 'u')\n",
        "print(\"Tuple before converting into list\",tuple_1)\n",
        "list_1 = [*tuple_1,]\n",
        "print(\"Tuple after converting into list\",list_1)\n",
        "print(type(list_1))"
      ],
      "execution_count": 10,
      "outputs": [
        {
          "output_type": "stream",
          "text": [
            "Tuple before converting into list ('a', 'e', 'i', 'o', 'u')\n",
            "Tuple after converting into list ['a', 'e', 'i', 'o', 'u']\n",
            "<class 'list'>\n"
          ],
          "name": "stdout"
        }
      ]
    }
  ]
}