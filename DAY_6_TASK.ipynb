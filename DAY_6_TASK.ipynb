{
  "nbformat": 4,
  "nbformat_minor": 0,
  "metadata": {
    "colab": {
      "name": "DAY 6 TASK.ipynb",
      "provenance": [],
      "collapsed_sections": []
    },
    "kernelspec": {
      "name": "python3",
      "display_name": "Python 3"
    },
    "language_info": {
      "name": "python"
    }
  },
  "cells": [
    {
      "cell_type": "markdown",
      "metadata": {
        "id": "mp4tz_xT9pWz"
      },
      "source": [
        "**Day 6 – Dictionary, Sets**"
      ]
    },
    {
      "cell_type": "markdown",
      "metadata": {
        "id": "ZNQeRHXB9_yo"
      },
      "source": [
        "**Exercise:**"
      ]
    },
    {
      "cell_type": "markdown",
      "metadata": {
        "id": "vn2vqSe3-eCH"
      },
      "source": [
        "**1) Write a Python script to merge two Python dictionaries**"
      ]
    },
    {
      "cell_type": "code",
      "metadata": {
        "colab": {
          "base_uri": "https://localhost:8080/"
        },
        "id": "VutBIl0i4WG0",
        "outputId": "52b5777e-ff80-44c9-a755-05e72b39f619"
      },
      "source": [
        "#creating two dictionaries\n",
        "dict1={'Sneha':85,'Arjun':18,'Meenu':57,'Sree':88}\n",
        "dict2={'Sai':76,'Madhav':56,'Akshay':12,'Nandhu':67}\n",
        "#merging two dictionaries using update() method\n",
        "dict1.update(dict2)\n",
        "print(\"Merged Dictionaries =\",dict1)\n"
      ],
      "execution_count": 3,
      "outputs": [
        {
          "output_type": "stream",
          "text": [
            "Merged Dictionaries = {'Sneha': 85, 'Arjun': 18, 'Meenu': 57, 'Sree': 88, 'Sai': 76, 'Madhav': 56, 'Akshay': 12, 'Nandhu': 67}\n"
          ],
          "name": "stdout"
        }
      ]
    },
    {
      "cell_type": "code",
      "metadata": {
        "colab": {
          "base_uri": "https://localhost:8080/"
        },
        "id": "zp_mLaUw3rhz",
        "outputId": "9274120d-1eea-4fd4-89db-3db4f6875f2e"
      },
      "source": [
        "#merging two dictionaries using ** operator\n",
        "dict3={**dict1,**dict2}\n",
        "print(\"Merged Dictionaries =\",dict3)"
      ],
      "execution_count": 5,
      "outputs": [
        {
          "output_type": "stream",
          "text": [
            "Merged Dictionaries = {'Sneha': 85, 'Arjun': 18, 'Meenu': 57, 'Sree': 88, 'Sai': 76, 'Madhav': 56, 'Akshay': 12, 'Nandhu': 67}\n"
          ],
          "name": "stdout"
        }
      ]
    },
    {
      "cell_type": "markdown",
      "metadata": {
        "id": "g6_CwS-S-YyS"
      },
      "source": [
        "**2) Write a Python program to remove a key from a dictionary**"
      ]
    },
    {
      "cell_type": "code",
      "metadata": {
        "colab": {
          "base_uri": "https://localhost:8080/"
        },
        "id": "I2o2y_t66HSo",
        "outputId": "62f77e3b-ebd4-4283-def3-65a140079ede"
      },
      "source": [
        "#remove a key from a dictionary using del \n",
        "del dict1['Nandhu']\n",
        "print(\"After removing a key=\",dict1)"
      ],
      "execution_count": 6,
      "outputs": [
        {
          "output_type": "stream",
          "text": [
            "After removing a key= {'Sneha': 85, 'Arjun': 18, 'Meenu': 57, 'Sree': 88, 'Sai': 76, 'Madhav': 56, 'Akshay': 12}\n"
          ],
          "name": "stdout"
        }
      ]
    },
    {
      "cell_type": "code",
      "metadata": {
        "colab": {
          "base_uri": "https://localhost:8080/"
        },
        "id": "4Kd5c52t7neu",
        "outputId": "876da596-2682-4104-d57e-e1d61d7370c2"
      },
      "source": [
        "#remove a key from a dictionary using pop()\n",
        "dict4={'Kavitha':100,'Sanil':101,'Vinod':102,'Ambili':103,'Sudha':104,'Mohan':105}\n",
        "dict4.pop('Mohan')\n",
        "print(\"After removing a key=\",dict4)"
      ],
      "execution_count": 12,
      "outputs": [
        {
          "output_type": "stream",
          "text": [
            "After removing a key= {'Kavitha': 100, 'Sanil': 101, 'Vinod': 102, 'Ambili': 103, 'Sudha': 104}\n"
          ],
          "name": "stdout"
        }
      ]
    },
    {
      "cell_type": "markdown",
      "metadata": {
        "id": "FdEgGZsZ-p01"
      },
      "source": [
        "**3) Write a Python program to map two lists into a dictionary**"
      ]
    },
    {
      "cell_type": "code",
      "metadata": {
        "colab": {
          "base_uri": "https://localhost:8080/"
        },
        "id": "EcmJmnnE6Jm9",
        "outputId": "688583af-d740-4ea8-e6ba-6abab87db4ea"
      },
      "source": [
        "#map two lists into a dictionary\n",
        "keys = ['Name', 'Age', 'Job']\n",
        "values = ['Sneha', 19, 'Coder']\n",
        "myDict = dict(zip(keys, values))\n",
        "print(\"Dictionary Items =\",myDict)\n"
      ],
      "execution_count": 13,
      "outputs": [
        {
          "output_type": "stream",
          "text": [
            "Dictionary Items = {'Name': 'Sneha', 'Age': 19, 'Job': 'Coder'}\n"
          ],
          "name": "stdout"
        }
      ]
    },
    {
      "cell_type": "markdown",
      "metadata": {
        "id": "drxJmFgO-wkp"
      },
      "source": [
        "**4) Write a Python program to find the length of a set**\n",
        "\n",
        "\n"
      ]
    },
    {
      "cell_type": "code",
      "metadata": {
        "colab": {
          "base_uri": "https://localhost:8080/"
        },
        "id": "j5eFILUX6Kdv",
        "outputId": "2c789a64-c3d9-462b-81aa-8c20348d05d7"
      },
      "source": [
        "#length of a set\n",
        "set1=(1265,896,325,925,65,582,327,83,685,832,472)\n",
        "print(\"Length of set =\",len(set1))"
      ],
      "execution_count": 15,
      "outputs": [
        {
          "output_type": "stream",
          "text": [
            "Length of set = 11\n"
          ],
          "name": "stdout"
        }
      ]
    },
    {
      "cell_type": "markdown",
      "metadata": {
        "id": "TRpXBrvH-9I0"
      },
      "source": [
        "**5) Write a Python program to remove the intersection of a 2nd set from the \n",
        "1st set**"
      ]
    },
    {
      "cell_type": "code",
      "metadata": {
        "colab": {
          "base_uri": "https://localhost:8080/"
        },
        "id": "tjIZyd0GEUHF",
        "outputId": "ac4a7280-98cb-4aef-ff48-49baf0582481"
      },
      "source": [
        "#intersection of a 2nd set from the 1st set\n",
        "s1 = {8,4,2,5,6,5,3,1}\n",
        "s2 = {3,1,7,9,5}\n",
        "s1.intersection(s2)\n"
      ],
      "execution_count": 23,
      "outputs": [
        {
          "output_type": "execute_result",
          "data": {
            "text/plain": [
              "{1, 3, 5}"
            ]
          },
          "metadata": {
            "tags": []
          },
          "execution_count": 23
        }
      ]
    }
  ]
}