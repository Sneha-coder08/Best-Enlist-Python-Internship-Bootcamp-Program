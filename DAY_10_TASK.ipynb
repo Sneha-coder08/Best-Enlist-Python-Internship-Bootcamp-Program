{
  "nbformat": 4,
  "nbformat_minor": 0,
  "metadata": {
    "colab": {
      "name": "DAY 10 TASK.ipynb",
      "provenance": []
    },
    "kernelspec": {
      "name": "python3",
      "display_name": "Python 3"
    },
    "language_info": {
      "name": "python"
    }
  },
  "cells": [
    {
      "cell_type": "markdown",
      "metadata": {
        "id": "JNR95lmMnBhK"
      },
      "source": [
        "# **DAY 10**"
      ]
    },
    {
      "cell_type": "markdown",
      "metadata": {
        "id": "HhIn95k4nBxd"
      },
      "source": [
        "### **INHERITANCE**"
      ]
    },
    {
      "cell_type": "markdown",
      "metadata": {
        "id": "Lsr0xsr2nWVh"
      },
      "source": [
        "**Create a real time scenario for inheritance example Banking concept**"
      ]
    },
    {
      "cell_type": "code",
      "metadata": {
        "colab": {
          "base_uri": "https://localhost:8080/"
        },
        "id": "KPhnmmkdnmYA",
        "outputId": "b1c9a73f-3143-47ac-e8fb-9a778d689591"
      },
      "source": [
        "class Bank_Account:\n",
        "    def __init__(self):\n",
        "        self.balance=0\n",
        "        print(\"Hello!!! Welcome to the Deposit & Withdrawal Machine\")\n",
        "    def display(self):\n",
        "        print(\"\\n Net Available Balance=\",self.balance)\n",
        "class Deposit(Bank_Account):  #inheritance\n",
        "    def deposit(self):\n",
        "        amount=float(input(\"Enter amount to be Deposited: \"))\n",
        "        self.balance += amount\n",
        "        print(\"\\n Amount Deposited:\",amount)\n",
        "class Withdraw(Bank_Account):  #mutiple inheritance\n",
        "    def withdraw(self):\n",
        "        amount = float(input(\"Enter amount to be Withdrawn: \"))\n",
        "        if self.balance>=amount:\n",
        "            self.balance-=amount\n",
        "            print(\"\\n Insufficient balance  \")\n",
        "        else:\n",
        "            print(\"\\n You Withdrew:\", amount)\n",
        "s = Bank_Account()"
      ],
      "execution_count": 4,
      "outputs": [
        {
          "output_type": "stream",
          "text": [
            "Hello!!! Welcome to the Deposit & Withdrawal Machine\n"
          ],
          "name": "stdout"
        }
      ]
    },
    {
      "cell_type": "code",
      "metadata": {
        "colab": {
          "base_uri": "https://localhost:8080/"
        },
        "id": "BUlo7qCXn-9d",
        "outputId": "5eaacbd1-4d2b-4128-81f2-91ab1f4c53d7"
      },
      "source": [
        "p=Deposit()\n",
        "p.deposit()"
      ],
      "execution_count": 10,
      "outputs": [
        {
          "output_type": "stream",
          "text": [
            "Hello!!! Welcome to the Deposit & Withdrawal Machine\n",
            "Enter amount to be Deposited: 5000\n",
            "\n",
            " Amount Deposited: 5000.0\n"
          ],
          "name": "stdout"
        }
      ]
    },
    {
      "cell_type": "code",
      "metadata": {
        "colab": {
          "base_uri": "https://localhost:8080/"
        },
        "id": "47xfemcOoGwH",
        "outputId": "c863b6b3-e8eb-4adc-926f-646c69e9b1ac"
      },
      "source": [
        "q=Withdraw()\n",
        "q.withdraw()\n",
        "s.display()"
      ],
      "execution_count": 9,
      "outputs": [
        {
          "output_type": "stream",
          "text": [
            "Hello!!! Welcome to the Deposit & Withdrawal Machine\n",
            "Enter amount to be Withdrawn: 5000\n",
            "\n",
            " You Withdrew: 5000.0\n",
            "\n",
            " Net Available Balance= 0\n"
          ],
          "name": "stdout"
        }
      ]
    }
  ]
}